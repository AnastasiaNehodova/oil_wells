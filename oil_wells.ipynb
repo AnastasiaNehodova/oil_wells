{
 "cells": [
  {
   "cell_type": "code",
   "execution_count": 1,
   "metadata": {},
   "outputs": [],
   "source": [
    "import numpy as np\n",
    "import pandas as pd\n",
    "from IPython.display import display\n",
    "from sklearn.model_selection import train_test_split\n",
    "from sklearn.preprocessing import StandardScaler\n",
    "from sklearn.linear_model import LinearRegression\n",
    "from sklearn.metrics import mean_squared_error\n",
    "from math import sqrt\n",
    "import seaborn as sns\n",
    "import matplotlib.pyplot as plt"
   ]
  },
  {
   "cell_type": "markdown",
   "metadata": {},
   "source": [
    "## Загрузка и подготовка данных"
   ]
  },
  {
   "cell_type": "code",
   "execution_count": 2,
   "metadata": {},
   "outputs": [],
   "source": [
    "data = {}\n",
    "for i in range(3):\n",
    "    try:\n",
    "        data[i] = pd.read_csv(f'/datasets/geo_data_{i}.csv').drop(columns=['id'])\n",
    "    except:\n",
    "        data[i] =pd.read_csv(f'https://code.s3.yandex.net/datasets/geo_data_{i}.csv').drop(columns=['id']) "
   ]
  },
  {
   "cell_type": "markdown",
   "metadata": {},
   "source": [
    "Загружаю данные из трех датасетов в цикле, столбец id не несет полезной информации для анализа, его удаляю."
   ]
  },
  {
   "cell_type": "code",
   "execution_count": 3,
   "metadata": {
    "scrolled": false
   },
   "outputs": [
    {
     "name": "stdout",
     "output_type": "stream",
     "text": [
      "---------------------------------------------\n",
      "Region-0\n",
      "---------------------------------------------\n"
     ]
    },
    {
     "data": {
      "text/html": [
       "<div>\n",
       "<style scoped>\n",
       "    .dataframe tbody tr th:only-of-type {\n",
       "        vertical-align: middle;\n",
       "    }\n",
       "\n",
       "    .dataframe tbody tr th {\n",
       "        vertical-align: top;\n",
       "    }\n",
       "\n",
       "    .dataframe thead th {\n",
       "        text-align: right;\n",
       "    }\n",
       "</style>\n",
       "<table border=\"1\" class=\"dataframe\">\n",
       "  <thead>\n",
       "    <tr style=\"text-align: right;\">\n",
       "      <th></th>\n",
       "      <th>f0</th>\n",
       "      <th>f1</th>\n",
       "      <th>f2</th>\n",
       "      <th>product</th>\n",
       "    </tr>\n",
       "  </thead>\n",
       "  <tbody>\n",
       "    <tr>\n",
       "      <th>0</th>\n",
       "      <td>0.705745</td>\n",
       "      <td>-0.497823</td>\n",
       "      <td>1.221170</td>\n",
       "      <td>105.280062</td>\n",
       "    </tr>\n",
       "    <tr>\n",
       "      <th>1</th>\n",
       "      <td>1.334711</td>\n",
       "      <td>-0.340164</td>\n",
       "      <td>4.365080</td>\n",
       "      <td>73.037750</td>\n",
       "    </tr>\n",
       "    <tr>\n",
       "      <th>2</th>\n",
       "      <td>1.022732</td>\n",
       "      <td>0.151990</td>\n",
       "      <td>1.419926</td>\n",
       "      <td>85.265647</td>\n",
       "    </tr>\n",
       "    <tr>\n",
       "      <th>3</th>\n",
       "      <td>-0.032172</td>\n",
       "      <td>0.139033</td>\n",
       "      <td>2.978566</td>\n",
       "      <td>168.620776</td>\n",
       "    </tr>\n",
       "    <tr>\n",
       "      <th>4</th>\n",
       "      <td>1.988431</td>\n",
       "      <td>0.155413</td>\n",
       "      <td>4.751769</td>\n",
       "      <td>154.036647</td>\n",
       "    </tr>\n",
       "    <tr>\n",
       "      <th>...</th>\n",
       "      <td>...</td>\n",
       "      <td>...</td>\n",
       "      <td>...</td>\n",
       "      <td>...</td>\n",
       "    </tr>\n",
       "    <tr>\n",
       "      <th>99995</th>\n",
       "      <td>0.971957</td>\n",
       "      <td>0.370953</td>\n",
       "      <td>6.075346</td>\n",
       "      <td>110.744026</td>\n",
       "    </tr>\n",
       "    <tr>\n",
       "      <th>99996</th>\n",
       "      <td>1.392429</td>\n",
       "      <td>-0.382606</td>\n",
       "      <td>1.273912</td>\n",
       "      <td>122.346843</td>\n",
       "    </tr>\n",
       "    <tr>\n",
       "      <th>99997</th>\n",
       "      <td>1.029585</td>\n",
       "      <td>0.018787</td>\n",
       "      <td>-1.348308</td>\n",
       "      <td>64.375443</td>\n",
       "    </tr>\n",
       "    <tr>\n",
       "      <th>99998</th>\n",
       "      <td>0.998163</td>\n",
       "      <td>-0.528582</td>\n",
       "      <td>1.583869</td>\n",
       "      <td>74.040764</td>\n",
       "    </tr>\n",
       "    <tr>\n",
       "      <th>99999</th>\n",
       "      <td>1.764754</td>\n",
       "      <td>-0.266417</td>\n",
       "      <td>5.722849</td>\n",
       "      <td>149.633246</td>\n",
       "    </tr>\n",
       "  </tbody>\n",
       "</table>\n",
       "<p>100000 rows × 4 columns</p>\n",
       "</div>"
      ],
      "text/plain": [
       "             f0        f1        f2     product\n",
       "0      0.705745 -0.497823  1.221170  105.280062\n",
       "1      1.334711 -0.340164  4.365080   73.037750\n",
       "2      1.022732  0.151990  1.419926   85.265647\n",
       "3     -0.032172  0.139033  2.978566  168.620776\n",
       "4      1.988431  0.155413  4.751769  154.036647\n",
       "...         ...       ...       ...         ...\n",
       "99995  0.971957  0.370953  6.075346  110.744026\n",
       "99996  1.392429 -0.382606  1.273912  122.346843\n",
       "99997  1.029585  0.018787 -1.348308   64.375443\n",
       "99998  0.998163 -0.528582  1.583869   74.040764\n",
       "99999  1.764754 -0.266417  5.722849  149.633246\n",
       "\n",
       "[100000 rows x 4 columns]"
      ]
     },
     "metadata": {},
     "output_type": "display_data"
    },
    {
     "data": {
      "text/html": [
       "<div>\n",
       "<style scoped>\n",
       "    .dataframe tbody tr th:only-of-type {\n",
       "        vertical-align: middle;\n",
       "    }\n",
       "\n",
       "    .dataframe tbody tr th {\n",
       "        vertical-align: top;\n",
       "    }\n",
       "\n",
       "    .dataframe thead th {\n",
       "        text-align: right;\n",
       "    }\n",
       "</style>\n",
       "<table border=\"1\" class=\"dataframe\">\n",
       "  <thead>\n",
       "    <tr style=\"text-align: right;\">\n",
       "      <th></th>\n",
       "      <th>f0</th>\n",
       "      <th>f1</th>\n",
       "      <th>f2</th>\n",
       "      <th>product</th>\n",
       "    </tr>\n",
       "  </thead>\n",
       "  <tbody>\n",
       "    <tr>\n",
       "      <th>count</th>\n",
       "      <td>100000.000000</td>\n",
       "      <td>100000.000000</td>\n",
       "      <td>100000.000000</td>\n",
       "      <td>100000.000000</td>\n",
       "    </tr>\n",
       "    <tr>\n",
       "      <th>mean</th>\n",
       "      <td>0.500419</td>\n",
       "      <td>0.250143</td>\n",
       "      <td>2.502647</td>\n",
       "      <td>92.500000</td>\n",
       "    </tr>\n",
       "    <tr>\n",
       "      <th>std</th>\n",
       "      <td>0.871832</td>\n",
       "      <td>0.504433</td>\n",
       "      <td>3.248248</td>\n",
       "      <td>44.288691</td>\n",
       "    </tr>\n",
       "    <tr>\n",
       "      <th>min</th>\n",
       "      <td>-1.408605</td>\n",
       "      <td>-0.848218</td>\n",
       "      <td>-12.088328</td>\n",
       "      <td>0.000000</td>\n",
       "    </tr>\n",
       "    <tr>\n",
       "      <th>25%</th>\n",
       "      <td>-0.072580</td>\n",
       "      <td>-0.200881</td>\n",
       "      <td>0.287748</td>\n",
       "      <td>56.497507</td>\n",
       "    </tr>\n",
       "    <tr>\n",
       "      <th>50%</th>\n",
       "      <td>0.502360</td>\n",
       "      <td>0.250252</td>\n",
       "      <td>2.515969</td>\n",
       "      <td>91.849972</td>\n",
       "    </tr>\n",
       "    <tr>\n",
       "      <th>75%</th>\n",
       "      <td>1.073581</td>\n",
       "      <td>0.700646</td>\n",
       "      <td>4.715088</td>\n",
       "      <td>128.564089</td>\n",
       "    </tr>\n",
       "    <tr>\n",
       "      <th>max</th>\n",
       "      <td>2.362331</td>\n",
       "      <td>1.343769</td>\n",
       "      <td>16.003790</td>\n",
       "      <td>185.364347</td>\n",
       "    </tr>\n",
       "  </tbody>\n",
       "</table>\n",
       "</div>"
      ],
      "text/plain": [
       "                  f0             f1             f2        product\n",
       "count  100000.000000  100000.000000  100000.000000  100000.000000\n",
       "mean        0.500419       0.250143       2.502647      92.500000\n",
       "std         0.871832       0.504433       3.248248      44.288691\n",
       "min        -1.408605      -0.848218     -12.088328       0.000000\n",
       "25%        -0.072580      -0.200881       0.287748      56.497507\n",
       "50%         0.502360       0.250252       2.515969      91.849972\n",
       "75%         1.073581       0.700646       4.715088     128.564089\n",
       "max         2.362331       1.343769      16.003790     185.364347"
      ]
     },
     "metadata": {},
     "output_type": "display_data"
    },
    {
     "data": {
      "text/plain": [
       "f0         0\n",
       "f1         0\n",
       "f2         0\n",
       "product    0\n",
       "dtype: int64"
      ]
     },
     "metadata": {},
     "output_type": "display_data"
    },
    {
     "name": "stdout",
     "output_type": "stream",
     "text": [
      "---------------------------------------------\n",
      "Region-1\n",
      "---------------------------------------------\n"
     ]
    },
    {
     "data": {
      "text/html": [
       "<div>\n",
       "<style scoped>\n",
       "    .dataframe tbody tr th:only-of-type {\n",
       "        vertical-align: middle;\n",
       "    }\n",
       "\n",
       "    .dataframe tbody tr th {\n",
       "        vertical-align: top;\n",
       "    }\n",
       "\n",
       "    .dataframe thead th {\n",
       "        text-align: right;\n",
       "    }\n",
       "</style>\n",
       "<table border=\"1\" class=\"dataframe\">\n",
       "  <thead>\n",
       "    <tr style=\"text-align: right;\">\n",
       "      <th></th>\n",
       "      <th>f0</th>\n",
       "      <th>f1</th>\n",
       "      <th>f2</th>\n",
       "      <th>product</th>\n",
       "    </tr>\n",
       "  </thead>\n",
       "  <tbody>\n",
       "    <tr>\n",
       "      <th>0</th>\n",
       "      <td>-15.001348</td>\n",
       "      <td>-8.276000</td>\n",
       "      <td>-0.005876</td>\n",
       "      <td>3.179103</td>\n",
       "    </tr>\n",
       "    <tr>\n",
       "      <th>1</th>\n",
       "      <td>14.272088</td>\n",
       "      <td>-3.475083</td>\n",
       "      <td>0.999183</td>\n",
       "      <td>26.953261</td>\n",
       "    </tr>\n",
       "    <tr>\n",
       "      <th>2</th>\n",
       "      <td>6.263187</td>\n",
       "      <td>-5.948386</td>\n",
       "      <td>5.001160</td>\n",
       "      <td>134.766305</td>\n",
       "    </tr>\n",
       "    <tr>\n",
       "      <th>3</th>\n",
       "      <td>-13.081196</td>\n",
       "      <td>-11.506057</td>\n",
       "      <td>4.999415</td>\n",
       "      <td>137.945408</td>\n",
       "    </tr>\n",
       "    <tr>\n",
       "      <th>4</th>\n",
       "      <td>12.702195</td>\n",
       "      <td>-8.147433</td>\n",
       "      <td>5.004363</td>\n",
       "      <td>134.766305</td>\n",
       "    </tr>\n",
       "    <tr>\n",
       "      <th>...</th>\n",
       "      <td>...</td>\n",
       "      <td>...</td>\n",
       "      <td>...</td>\n",
       "      <td>...</td>\n",
       "    </tr>\n",
       "    <tr>\n",
       "      <th>99995</th>\n",
       "      <td>9.535637</td>\n",
       "      <td>-6.878139</td>\n",
       "      <td>1.998296</td>\n",
       "      <td>53.906522</td>\n",
       "    </tr>\n",
       "    <tr>\n",
       "      <th>99996</th>\n",
       "      <td>-10.160631</td>\n",
       "      <td>-12.558096</td>\n",
       "      <td>5.005581</td>\n",
       "      <td>137.945408</td>\n",
       "    </tr>\n",
       "    <tr>\n",
       "      <th>99997</th>\n",
       "      <td>-7.378891</td>\n",
       "      <td>-3.084104</td>\n",
       "      <td>4.998651</td>\n",
       "      <td>137.945408</td>\n",
       "    </tr>\n",
       "    <tr>\n",
       "      <th>99998</th>\n",
       "      <td>0.665714</td>\n",
       "      <td>-6.152593</td>\n",
       "      <td>1.000146</td>\n",
       "      <td>30.132364</td>\n",
       "    </tr>\n",
       "    <tr>\n",
       "      <th>99999</th>\n",
       "      <td>-3.426139</td>\n",
       "      <td>-7.794274</td>\n",
       "      <td>-0.003299</td>\n",
       "      <td>3.179103</td>\n",
       "    </tr>\n",
       "  </tbody>\n",
       "</table>\n",
       "<p>100000 rows × 4 columns</p>\n",
       "</div>"
      ],
      "text/plain": [
       "              f0         f1        f2     product\n",
       "0     -15.001348  -8.276000 -0.005876    3.179103\n",
       "1      14.272088  -3.475083  0.999183   26.953261\n",
       "2       6.263187  -5.948386  5.001160  134.766305\n",
       "3     -13.081196 -11.506057  4.999415  137.945408\n",
       "4      12.702195  -8.147433  5.004363  134.766305\n",
       "...          ...        ...       ...         ...\n",
       "99995   9.535637  -6.878139  1.998296   53.906522\n",
       "99996 -10.160631 -12.558096  5.005581  137.945408\n",
       "99997  -7.378891  -3.084104  4.998651  137.945408\n",
       "99998   0.665714  -6.152593  1.000146   30.132364\n",
       "99999  -3.426139  -7.794274 -0.003299    3.179103\n",
       "\n",
       "[100000 rows x 4 columns]"
      ]
     },
     "metadata": {},
     "output_type": "display_data"
    },
    {
     "data": {
      "text/html": [
       "<div>\n",
       "<style scoped>\n",
       "    .dataframe tbody tr th:only-of-type {\n",
       "        vertical-align: middle;\n",
       "    }\n",
       "\n",
       "    .dataframe tbody tr th {\n",
       "        vertical-align: top;\n",
       "    }\n",
       "\n",
       "    .dataframe thead th {\n",
       "        text-align: right;\n",
       "    }\n",
       "</style>\n",
       "<table border=\"1\" class=\"dataframe\">\n",
       "  <thead>\n",
       "    <tr style=\"text-align: right;\">\n",
       "      <th></th>\n",
       "      <th>f0</th>\n",
       "      <th>f1</th>\n",
       "      <th>f2</th>\n",
       "      <th>product</th>\n",
       "    </tr>\n",
       "  </thead>\n",
       "  <tbody>\n",
       "    <tr>\n",
       "      <th>count</th>\n",
       "      <td>100000.000000</td>\n",
       "      <td>100000.000000</td>\n",
       "      <td>100000.000000</td>\n",
       "      <td>100000.000000</td>\n",
       "    </tr>\n",
       "    <tr>\n",
       "      <th>mean</th>\n",
       "      <td>1.141296</td>\n",
       "      <td>-4.796579</td>\n",
       "      <td>2.494541</td>\n",
       "      <td>68.825000</td>\n",
       "    </tr>\n",
       "    <tr>\n",
       "      <th>std</th>\n",
       "      <td>8.965932</td>\n",
       "      <td>5.119872</td>\n",
       "      <td>1.703572</td>\n",
       "      <td>45.944423</td>\n",
       "    </tr>\n",
       "    <tr>\n",
       "      <th>min</th>\n",
       "      <td>-31.609576</td>\n",
       "      <td>-26.358598</td>\n",
       "      <td>-0.018144</td>\n",
       "      <td>0.000000</td>\n",
       "    </tr>\n",
       "    <tr>\n",
       "      <th>25%</th>\n",
       "      <td>-6.298551</td>\n",
       "      <td>-8.267985</td>\n",
       "      <td>1.000021</td>\n",
       "      <td>26.953261</td>\n",
       "    </tr>\n",
       "    <tr>\n",
       "      <th>50%</th>\n",
       "      <td>1.153055</td>\n",
       "      <td>-4.813172</td>\n",
       "      <td>2.011479</td>\n",
       "      <td>57.085625</td>\n",
       "    </tr>\n",
       "    <tr>\n",
       "      <th>75%</th>\n",
       "      <td>8.621015</td>\n",
       "      <td>-1.332816</td>\n",
       "      <td>3.999904</td>\n",
       "      <td>107.813044</td>\n",
       "    </tr>\n",
       "    <tr>\n",
       "      <th>max</th>\n",
       "      <td>29.421755</td>\n",
       "      <td>18.734063</td>\n",
       "      <td>5.019721</td>\n",
       "      <td>137.945408</td>\n",
       "    </tr>\n",
       "  </tbody>\n",
       "</table>\n",
       "</div>"
      ],
      "text/plain": [
       "                  f0             f1             f2        product\n",
       "count  100000.000000  100000.000000  100000.000000  100000.000000\n",
       "mean        1.141296      -4.796579       2.494541      68.825000\n",
       "std         8.965932       5.119872       1.703572      45.944423\n",
       "min       -31.609576     -26.358598      -0.018144       0.000000\n",
       "25%        -6.298551      -8.267985       1.000021      26.953261\n",
       "50%         1.153055      -4.813172       2.011479      57.085625\n",
       "75%         8.621015      -1.332816       3.999904     107.813044\n",
       "max        29.421755      18.734063       5.019721     137.945408"
      ]
     },
     "metadata": {},
     "output_type": "display_data"
    },
    {
     "data": {
      "text/plain": [
       "f0         0\n",
       "f1         0\n",
       "f2         0\n",
       "product    0\n",
       "dtype: int64"
      ]
     },
     "metadata": {},
     "output_type": "display_data"
    },
    {
     "name": "stdout",
     "output_type": "stream",
     "text": [
      "---------------------------------------------\n",
      "Region-2\n",
      "---------------------------------------------\n"
     ]
    },
    {
     "data": {
      "text/html": [
       "<div>\n",
       "<style scoped>\n",
       "    .dataframe tbody tr th:only-of-type {\n",
       "        vertical-align: middle;\n",
       "    }\n",
       "\n",
       "    .dataframe tbody tr th {\n",
       "        vertical-align: top;\n",
       "    }\n",
       "\n",
       "    .dataframe thead th {\n",
       "        text-align: right;\n",
       "    }\n",
       "</style>\n",
       "<table border=\"1\" class=\"dataframe\">\n",
       "  <thead>\n",
       "    <tr style=\"text-align: right;\">\n",
       "      <th></th>\n",
       "      <th>f0</th>\n",
       "      <th>f1</th>\n",
       "      <th>f2</th>\n",
       "      <th>product</th>\n",
       "    </tr>\n",
       "  </thead>\n",
       "  <tbody>\n",
       "    <tr>\n",
       "      <th>0</th>\n",
       "      <td>-1.146987</td>\n",
       "      <td>0.963328</td>\n",
       "      <td>-0.828965</td>\n",
       "      <td>27.758673</td>\n",
       "    </tr>\n",
       "    <tr>\n",
       "      <th>1</th>\n",
       "      <td>0.262778</td>\n",
       "      <td>0.269839</td>\n",
       "      <td>-2.530187</td>\n",
       "      <td>56.069697</td>\n",
       "    </tr>\n",
       "    <tr>\n",
       "      <th>2</th>\n",
       "      <td>0.194587</td>\n",
       "      <td>0.289035</td>\n",
       "      <td>-5.586433</td>\n",
       "      <td>62.871910</td>\n",
       "    </tr>\n",
       "    <tr>\n",
       "      <th>3</th>\n",
       "      <td>2.236060</td>\n",
       "      <td>-0.553760</td>\n",
       "      <td>0.930038</td>\n",
       "      <td>114.572842</td>\n",
       "    </tr>\n",
       "    <tr>\n",
       "      <th>4</th>\n",
       "      <td>-0.515993</td>\n",
       "      <td>1.716266</td>\n",
       "      <td>5.899011</td>\n",
       "      <td>149.600746</td>\n",
       "    </tr>\n",
       "    <tr>\n",
       "      <th>...</th>\n",
       "      <td>...</td>\n",
       "      <td>...</td>\n",
       "      <td>...</td>\n",
       "      <td>...</td>\n",
       "    </tr>\n",
       "    <tr>\n",
       "      <th>99995</th>\n",
       "      <td>-1.777037</td>\n",
       "      <td>1.125220</td>\n",
       "      <td>6.263374</td>\n",
       "      <td>172.327046</td>\n",
       "    </tr>\n",
       "    <tr>\n",
       "      <th>99996</th>\n",
       "      <td>-1.261523</td>\n",
       "      <td>-0.894828</td>\n",
       "      <td>2.524545</td>\n",
       "      <td>138.748846</td>\n",
       "    </tr>\n",
       "    <tr>\n",
       "      <th>99997</th>\n",
       "      <td>-1.199934</td>\n",
       "      <td>-2.957637</td>\n",
       "      <td>5.219411</td>\n",
       "      <td>157.080080</td>\n",
       "    </tr>\n",
       "    <tr>\n",
       "      <th>99998</th>\n",
       "      <td>-2.419896</td>\n",
       "      <td>2.417221</td>\n",
       "      <td>-5.548444</td>\n",
       "      <td>51.795253</td>\n",
       "    </tr>\n",
       "    <tr>\n",
       "      <th>99999</th>\n",
       "      <td>-2.551421</td>\n",
       "      <td>-2.025625</td>\n",
       "      <td>6.090891</td>\n",
       "      <td>102.775767</td>\n",
       "    </tr>\n",
       "  </tbody>\n",
       "</table>\n",
       "<p>100000 rows × 4 columns</p>\n",
       "</div>"
      ],
      "text/plain": [
       "             f0        f1        f2     product\n",
       "0     -1.146987  0.963328 -0.828965   27.758673\n",
       "1      0.262778  0.269839 -2.530187   56.069697\n",
       "2      0.194587  0.289035 -5.586433   62.871910\n",
       "3      2.236060 -0.553760  0.930038  114.572842\n",
       "4     -0.515993  1.716266  5.899011  149.600746\n",
       "...         ...       ...       ...         ...\n",
       "99995 -1.777037  1.125220  6.263374  172.327046\n",
       "99996 -1.261523 -0.894828  2.524545  138.748846\n",
       "99997 -1.199934 -2.957637  5.219411  157.080080\n",
       "99998 -2.419896  2.417221 -5.548444   51.795253\n",
       "99999 -2.551421 -2.025625  6.090891  102.775767\n",
       "\n",
       "[100000 rows x 4 columns]"
      ]
     },
     "metadata": {},
     "output_type": "display_data"
    },
    {
     "data": {
      "text/html": [
       "<div>\n",
       "<style scoped>\n",
       "    .dataframe tbody tr th:only-of-type {\n",
       "        vertical-align: middle;\n",
       "    }\n",
       "\n",
       "    .dataframe tbody tr th {\n",
       "        vertical-align: top;\n",
       "    }\n",
       "\n",
       "    .dataframe thead th {\n",
       "        text-align: right;\n",
       "    }\n",
       "</style>\n",
       "<table border=\"1\" class=\"dataframe\">\n",
       "  <thead>\n",
       "    <tr style=\"text-align: right;\">\n",
       "      <th></th>\n",
       "      <th>f0</th>\n",
       "      <th>f1</th>\n",
       "      <th>f2</th>\n",
       "      <th>product</th>\n",
       "    </tr>\n",
       "  </thead>\n",
       "  <tbody>\n",
       "    <tr>\n",
       "      <th>count</th>\n",
       "      <td>100000.000000</td>\n",
       "      <td>100000.000000</td>\n",
       "      <td>100000.000000</td>\n",
       "      <td>100000.000000</td>\n",
       "    </tr>\n",
       "    <tr>\n",
       "      <th>mean</th>\n",
       "      <td>0.002023</td>\n",
       "      <td>-0.002081</td>\n",
       "      <td>2.495128</td>\n",
       "      <td>95.000000</td>\n",
       "    </tr>\n",
       "    <tr>\n",
       "      <th>std</th>\n",
       "      <td>1.732045</td>\n",
       "      <td>1.730417</td>\n",
       "      <td>3.473445</td>\n",
       "      <td>44.749921</td>\n",
       "    </tr>\n",
       "    <tr>\n",
       "      <th>min</th>\n",
       "      <td>-8.760004</td>\n",
       "      <td>-7.084020</td>\n",
       "      <td>-11.970335</td>\n",
       "      <td>0.000000</td>\n",
       "    </tr>\n",
       "    <tr>\n",
       "      <th>25%</th>\n",
       "      <td>-1.162288</td>\n",
       "      <td>-1.174820</td>\n",
       "      <td>0.130359</td>\n",
       "      <td>59.450441</td>\n",
       "    </tr>\n",
       "    <tr>\n",
       "      <th>50%</th>\n",
       "      <td>0.009424</td>\n",
       "      <td>-0.009482</td>\n",
       "      <td>2.484236</td>\n",
       "      <td>94.925613</td>\n",
       "    </tr>\n",
       "    <tr>\n",
       "      <th>75%</th>\n",
       "      <td>1.158535</td>\n",
       "      <td>1.163678</td>\n",
       "      <td>4.858794</td>\n",
       "      <td>130.595027</td>\n",
       "    </tr>\n",
       "    <tr>\n",
       "      <th>max</th>\n",
       "      <td>7.238262</td>\n",
       "      <td>7.844801</td>\n",
       "      <td>16.739402</td>\n",
       "      <td>190.029838</td>\n",
       "    </tr>\n",
       "  </tbody>\n",
       "</table>\n",
       "</div>"
      ],
      "text/plain": [
       "                  f0             f1             f2        product\n",
       "count  100000.000000  100000.000000  100000.000000  100000.000000\n",
       "mean        0.002023      -0.002081       2.495128      95.000000\n",
       "std         1.732045       1.730417       3.473445      44.749921\n",
       "min        -8.760004      -7.084020     -11.970335       0.000000\n",
       "25%        -1.162288      -1.174820       0.130359      59.450441\n",
       "50%         0.009424      -0.009482       2.484236      94.925613\n",
       "75%         1.158535       1.163678       4.858794     130.595027\n",
       "max         7.238262       7.844801      16.739402     190.029838"
      ]
     },
     "metadata": {},
     "output_type": "display_data"
    },
    {
     "data": {
      "text/plain": [
       "f0         0\n",
       "f1         0\n",
       "f2         0\n",
       "product    0\n",
       "dtype: int64"
      ]
     },
     "metadata": {},
     "output_type": "display_data"
    }
   ],
   "source": [
    "for i in range(3):\n",
    "    print('---------------------------------------------')\n",
    "    print(f'Region-{i}')\n",
    "    print('---------------------------------------------')\n",
    "    display(data[i])\n",
    "    display(data[i].describe())\n",
    "    display(data[i].isna().sum())  "
   ]
  },
  {
   "cell_type": "markdown",
   "metadata": {},
   "source": [
    "Датасет для каждого из трех регионов содержит 4 колонки (f0, f1, f2 - предсказывающие, prodact - предсказываемая), 100000 строк. Пустых значений нет. Предсказывающие колонки нужно подвергнуть стандартизации, чтобы улучшить точность предсказания линейной регресиии."
   ]
  },
  {
   "cell_type": "code",
   "execution_count": 4,
   "metadata": {
    "scrolled": false
   },
   "outputs": [
    {
     "name": "stdout",
     "output_type": "stream",
     "text": [
      "---------------------------------------------\n",
      "Region-0\n",
      "---------------------------------------------\n",
      "Train\n"
     ]
    },
    {
     "data": {
      "text/html": [
       "<div>\n",
       "<style scoped>\n",
       "    .dataframe tbody tr th:only-of-type {\n",
       "        vertical-align: middle;\n",
       "    }\n",
       "\n",
       "    .dataframe tbody tr th {\n",
       "        vertical-align: top;\n",
       "    }\n",
       "\n",
       "    .dataframe thead th {\n",
       "        text-align: right;\n",
       "    }\n",
       "</style>\n",
       "<table border=\"1\" class=\"dataframe\">\n",
       "  <thead>\n",
       "    <tr style=\"text-align: right;\">\n",
       "      <th></th>\n",
       "      <th>f0</th>\n",
       "      <th>f1</th>\n",
       "      <th>f2</th>\n",
       "    </tr>\n",
       "  </thead>\n",
       "  <tbody>\n",
       "    <tr>\n",
       "      <th>98980</th>\n",
       "      <td>1.611925</td>\n",
       "      <td>-0.151874</td>\n",
       "      <td>1.221668</td>\n",
       "    </tr>\n",
       "    <tr>\n",
       "      <th>69824</th>\n",
       "      <td>-0.896203</td>\n",
       "      <td>0.369086</td>\n",
       "      <td>-4.537914</td>\n",
       "    </tr>\n",
       "    <tr>\n",
       "      <th>9928</th>\n",
       "      <td>0.217569</td>\n",
       "      <td>0.974254</td>\n",
       "      <td>7.369521</td>\n",
       "    </tr>\n",
       "    <tr>\n",
       "      <th>75599</th>\n",
       "      <td>0.882945</td>\n",
       "      <td>0.669249</td>\n",
       "      <td>3.114527</td>\n",
       "    </tr>\n",
       "    <tr>\n",
       "      <th>95621</th>\n",
       "      <td>-0.941661</td>\n",
       "      <td>0.634162</td>\n",
       "      <td>2.873607</td>\n",
       "    </tr>\n",
       "    <tr>\n",
       "      <th>...</th>\n",
       "      <td>...</td>\n",
       "      <td>...</td>\n",
       "      <td>...</td>\n",
       "    </tr>\n",
       "    <tr>\n",
       "      <th>6265</th>\n",
       "      <td>1.626462</td>\n",
       "      <td>-0.107752</td>\n",
       "      <td>2.951064</td>\n",
       "    </tr>\n",
       "    <tr>\n",
       "      <th>54886</th>\n",
       "      <td>1.682364</td>\n",
       "      <td>-0.193385</td>\n",
       "      <td>-1.175390</td>\n",
       "    </tr>\n",
       "    <tr>\n",
       "      <th>76820</th>\n",
       "      <td>0.979059</td>\n",
       "      <td>-0.550693</td>\n",
       "      <td>2.897510</td>\n",
       "    </tr>\n",
       "    <tr>\n",
       "      <th>860</th>\n",
       "      <td>0.652792</td>\n",
       "      <td>-0.484070</td>\n",
       "      <td>7.155391</td>\n",
       "    </tr>\n",
       "    <tr>\n",
       "      <th>15795</th>\n",
       "      <td>1.398239</td>\n",
       "      <td>-0.464569</td>\n",
       "      <td>2.024935</td>\n",
       "    </tr>\n",
       "  </tbody>\n",
       "</table>\n",
       "<p>75000 rows × 3 columns</p>\n",
       "</div>"
      ],
      "text/plain": [
       "             f0        f1        f2\n",
       "98980  1.611925 -0.151874  1.221668\n",
       "69824 -0.896203  0.369086 -4.537914\n",
       "9928   0.217569  0.974254  7.369521\n",
       "75599  0.882945  0.669249  3.114527\n",
       "95621 -0.941661  0.634162  2.873607\n",
       "...         ...       ...       ...\n",
       "6265   1.626462 -0.107752  2.951064\n",
       "54886  1.682364 -0.193385 -1.175390\n",
       "76820  0.979059 -0.550693  2.897510\n",
       "860    0.652792 -0.484070  7.155391\n",
       "15795  1.398239 -0.464569  2.024935\n",
       "\n",
       "[75000 rows x 3 columns]"
      ]
     },
     "metadata": {},
     "output_type": "display_data"
    },
    {
     "data": {
      "text/plain": [
       "98980    105.179287\n",
       "69824      9.351083\n",
       "9928     117.266771\n",
       "75599    116.537717\n",
       "95621    110.712818\n",
       "            ...    \n",
       "6265     131.201639\n",
       "54886     86.899956\n",
       "76820    156.871815\n",
       "860       83.755210\n",
       "15795     47.077062\n",
       "Name: product, Length: 75000, dtype: float64"
      ]
     },
     "metadata": {},
     "output_type": "display_data"
    },
    {
     "name": "stdout",
     "output_type": "stream",
     "text": [
      "Valid\n"
     ]
    },
    {
     "data": {
      "text/html": [
       "<div>\n",
       "<style scoped>\n",
       "    .dataframe tbody tr th:only-of-type {\n",
       "        vertical-align: middle;\n",
       "    }\n",
       "\n",
       "    .dataframe tbody tr th {\n",
       "        vertical-align: top;\n",
       "    }\n",
       "\n",
       "    .dataframe thead th {\n",
       "        text-align: right;\n",
       "    }\n",
       "</style>\n",
       "<table border=\"1\" class=\"dataframe\">\n",
       "  <thead>\n",
       "    <tr style=\"text-align: right;\">\n",
       "      <th></th>\n",
       "      <th>f0</th>\n",
       "      <th>f1</th>\n",
       "      <th>f2</th>\n",
       "    </tr>\n",
       "  </thead>\n",
       "  <tbody>\n",
       "    <tr>\n",
       "      <th>75721</th>\n",
       "      <td>0.599283</td>\n",
       "      <td>-0.557623</td>\n",
       "      <td>2.121187</td>\n",
       "    </tr>\n",
       "    <tr>\n",
       "      <th>80184</th>\n",
       "      <td>0.739017</td>\n",
       "      <td>-0.463156</td>\n",
       "      <td>-1.347584</td>\n",
       "    </tr>\n",
       "    <tr>\n",
       "      <th>19864</th>\n",
       "      <td>1.422743</td>\n",
       "      <td>-0.534917</td>\n",
       "      <td>3.718798</td>\n",
       "    </tr>\n",
       "    <tr>\n",
       "      <th>76699</th>\n",
       "      <td>1.580244</td>\n",
       "      <td>-0.238458</td>\n",
       "      <td>2.805149</td>\n",
       "    </tr>\n",
       "    <tr>\n",
       "      <th>92991</th>\n",
       "      <td>0.918974</td>\n",
       "      <td>0.023961</td>\n",
       "      <td>2.598575</td>\n",
       "    </tr>\n",
       "    <tr>\n",
       "      <th>...</th>\n",
       "      <td>...</td>\n",
       "      <td>...</td>\n",
       "      <td>...</td>\n",
       "    </tr>\n",
       "    <tr>\n",
       "      <th>21271</th>\n",
       "      <td>0.754647</td>\n",
       "      <td>-0.512213</td>\n",
       "      <td>2.610771</td>\n",
       "    </tr>\n",
       "    <tr>\n",
       "      <th>34014</th>\n",
       "      <td>-0.062056</td>\n",
       "      <td>0.516884</td>\n",
       "      <td>0.714446</td>\n",
       "    </tr>\n",
       "    <tr>\n",
       "      <th>81355</th>\n",
       "      <td>0.593769</td>\n",
       "      <td>-0.425260</td>\n",
       "      <td>-0.525017</td>\n",
       "    </tr>\n",
       "    <tr>\n",
       "      <th>65720</th>\n",
       "      <td>0.198209</td>\n",
       "      <td>0.453940</td>\n",
       "      <td>1.497557</td>\n",
       "    </tr>\n",
       "    <tr>\n",
       "      <th>11627</th>\n",
       "      <td>-0.246727</td>\n",
       "      <td>1.013025</td>\n",
       "      <td>4.678275</td>\n",
       "    </tr>\n",
       "  </tbody>\n",
       "</table>\n",
       "<p>25000 rows × 3 columns</p>\n",
       "</div>"
      ],
      "text/plain": [
       "             f0        f1        f2\n",
       "75721  0.599283 -0.557623  2.121187\n",
       "80184  0.739017 -0.463156 -1.347584\n",
       "19864  1.422743 -0.534917  3.718798\n",
       "76699  1.580244 -0.238458  2.805149\n",
       "92991  0.918974  0.023961  2.598575\n",
       "...         ...       ...       ...\n",
       "21271  0.754647 -0.512213  2.610771\n",
       "34014 -0.062056  0.516884  0.714446\n",
       "81355  0.593769 -0.425260 -0.525017\n",
       "65720  0.198209  0.453940  1.497557\n",
       "11627 -0.246727  1.013025  4.678275\n",
       "\n",
       "[25000 rows x 3 columns]"
      ]
     },
     "metadata": {},
     "output_type": "display_data"
    },
    {
     "data": {
      "text/plain": [
       "75721    122.073350\n",
       "80184     48.738540\n",
       "19864    131.338088\n",
       "76699     88.327757\n",
       "92991     36.959266\n",
       "            ...    \n",
       "21271    148.821520\n",
       "34014    123.454003\n",
       "81355     91.945213\n",
       "65720    149.295563\n",
       "11627     57.244039\n",
       "Name: product, Length: 25000, dtype: float64"
      ]
     },
     "metadata": {},
     "output_type": "display_data"
    },
    {
     "name": "stdout",
     "output_type": "stream",
     "text": [
      "---------------------------------------------\n",
      "Region-1\n",
      "---------------------------------------------\n",
      "Train\n"
     ]
    },
    {
     "data": {
      "text/html": [
       "<div>\n",
       "<style scoped>\n",
       "    .dataframe tbody tr th:only-of-type {\n",
       "        vertical-align: middle;\n",
       "    }\n",
       "\n",
       "    .dataframe tbody tr th {\n",
       "        vertical-align: top;\n",
       "    }\n",
       "\n",
       "    .dataframe thead th {\n",
       "        text-align: right;\n",
       "    }\n",
       "</style>\n",
       "<table border=\"1\" class=\"dataframe\">\n",
       "  <thead>\n",
       "    <tr style=\"text-align: right;\">\n",
       "      <th></th>\n",
       "      <th>f0</th>\n",
       "      <th>f1</th>\n",
       "      <th>f2</th>\n",
       "    </tr>\n",
       "  </thead>\n",
       "  <tbody>\n",
       "    <tr>\n",
       "      <th>98980</th>\n",
       "      <td>9.296378</td>\n",
       "      <td>-4.480220</td>\n",
       "      <td>1.999544</td>\n",
       "    </tr>\n",
       "    <tr>\n",
       "      <th>69824</th>\n",
       "      <td>15.836796</td>\n",
       "      <td>1.952969</td>\n",
       "      <td>4.989288</td>\n",
       "    </tr>\n",
       "    <tr>\n",
       "      <th>9928</th>\n",
       "      <td>-1.594937</td>\n",
       "      <td>-0.407367</td>\n",
       "      <td>3.003358</td>\n",
       "    </tr>\n",
       "    <tr>\n",
       "      <th>75599</th>\n",
       "      <td>12.335752</td>\n",
       "      <td>-6.508978</td>\n",
       "      <td>2.001396</td>\n",
       "    </tr>\n",
       "    <tr>\n",
       "      <th>95621</th>\n",
       "      <td>-4.954638</td>\n",
       "      <td>-8.026328</td>\n",
       "      <td>1.001472</td>\n",
       "    </tr>\n",
       "    <tr>\n",
       "      <th>...</th>\n",
       "      <td>...</td>\n",
       "      <td>...</td>\n",
       "      <td>...</td>\n",
       "    </tr>\n",
       "    <tr>\n",
       "      <th>6265</th>\n",
       "      <td>-9.097344</td>\n",
       "      <td>-9.935211</td>\n",
       "      <td>0.996925</td>\n",
       "    </tr>\n",
       "    <tr>\n",
       "      <th>54886</th>\n",
       "      <td>2.490913</td>\n",
       "      <td>-3.577409</td>\n",
       "      <td>4.003892</td>\n",
       "    </tr>\n",
       "    <tr>\n",
       "      <th>76820</th>\n",
       "      <td>11.419499</td>\n",
       "      <td>3.616041</td>\n",
       "      <td>0.998035</td>\n",
       "    </tr>\n",
       "    <tr>\n",
       "      <th>860</th>\n",
       "      <td>-2.206408</td>\n",
       "      <td>-6.205406</td>\n",
       "      <td>0.008217</td>\n",
       "    </tr>\n",
       "    <tr>\n",
       "      <th>15795</th>\n",
       "      <td>9.647152</td>\n",
       "      <td>-4.045684</td>\n",
       "      <td>4.991326</td>\n",
       "    </tr>\n",
       "  </tbody>\n",
       "</table>\n",
       "<p>75000 rows × 3 columns</p>\n",
       "</div>"
      ],
      "text/plain": [
       "              f0        f1        f2\n",
       "98980   9.296378 -4.480220  1.999544\n",
       "69824  15.836796  1.952969  4.989288\n",
       "9928   -1.594937 -0.407367  3.003358\n",
       "75599  12.335752 -6.508978  2.001396\n",
       "95621  -4.954638 -8.026328  1.001472\n",
       "...          ...       ...       ...\n",
       "6265   -9.097344 -9.935211  0.996925\n",
       "54886   2.490913 -3.577409  4.003892\n",
       "76820  11.419499  3.616041  0.998035\n",
       "860    -2.206408 -6.205406  0.008217\n",
       "15795   9.647152 -4.045684  4.991326\n",
       "\n",
       "[75000 rows x 3 columns]"
      ]
     },
     "metadata": {},
     "output_type": "display_data"
    },
    {
     "data": {
      "text/plain": [
       "98980     53.906522\n",
       "69824    134.766305\n",
       "9928      84.038886\n",
       "75599     53.906522\n",
       "95621     30.132364\n",
       "            ...    \n",
       "6265      30.132364\n",
       "54886    107.813044\n",
       "76820     26.953261\n",
       "860        0.000000\n",
       "15795    134.766305\n",
       "Name: product, Length: 75000, dtype: float64"
      ]
     },
     "metadata": {},
     "output_type": "display_data"
    },
    {
     "name": "stdout",
     "output_type": "stream",
     "text": [
      "Valid\n"
     ]
    },
    {
     "data": {
      "text/html": [
       "<div>\n",
       "<style scoped>\n",
       "    .dataframe tbody tr th:only-of-type {\n",
       "        vertical-align: middle;\n",
       "    }\n",
       "\n",
       "    .dataframe tbody tr th {\n",
       "        vertical-align: top;\n",
       "    }\n",
       "\n",
       "    .dataframe thead th {\n",
       "        text-align: right;\n",
       "    }\n",
       "</style>\n",
       "<table border=\"1\" class=\"dataframe\">\n",
       "  <thead>\n",
       "    <tr style=\"text-align: right;\">\n",
       "      <th></th>\n",
       "      <th>f0</th>\n",
       "      <th>f1</th>\n",
       "      <th>f2</th>\n",
       "    </tr>\n",
       "  </thead>\n",
       "  <tbody>\n",
       "    <tr>\n",
       "      <th>75721</th>\n",
       "      <td>6.078076</td>\n",
       "      <td>0.084568</td>\n",
       "      <td>0.002957</td>\n",
       "    </tr>\n",
       "    <tr>\n",
       "      <th>80184</th>\n",
       "      <td>16.462386</td>\n",
       "      <td>2.712946</td>\n",
       "      <td>1.993030</td>\n",
       "    </tr>\n",
       "    <tr>\n",
       "      <th>19864</th>\n",
       "      <td>7.051898</td>\n",
       "      <td>0.766983</td>\n",
       "      <td>4.990194</td>\n",
       "    </tr>\n",
       "    <tr>\n",
       "      <th>76699</th>\n",
       "      <td>-0.240045</td>\n",
       "      <td>-0.380804</td>\n",
       "      <td>3.999693</td>\n",
       "    </tr>\n",
       "    <tr>\n",
       "      <th>92991</th>\n",
       "      <td>13.350111</td>\n",
       "      <td>-8.558281</td>\n",
       "      <td>0.002010</td>\n",
       "    </tr>\n",
       "    <tr>\n",
       "      <th>...</th>\n",
       "      <td>...</td>\n",
       "      <td>...</td>\n",
       "      <td>...</td>\n",
       "    </tr>\n",
       "    <tr>\n",
       "      <th>21271</th>\n",
       "      <td>8.141417</td>\n",
       "      <td>-0.832158</td>\n",
       "      <td>4.001976</td>\n",
       "    </tr>\n",
       "    <tr>\n",
       "      <th>34014</th>\n",
       "      <td>16.601751</td>\n",
       "      <td>-8.141232</td>\n",
       "      <td>2.010371</td>\n",
       "    </tr>\n",
       "    <tr>\n",
       "      <th>81355</th>\n",
       "      <td>14.674777</td>\n",
       "      <td>-5.633890</td>\n",
       "      <td>1.004171</td>\n",
       "    </tr>\n",
       "    <tr>\n",
       "      <th>65720</th>\n",
       "      <td>-1.381118</td>\n",
       "      <td>-5.464254</td>\n",
       "      <td>4.001648</td>\n",
       "    </tr>\n",
       "    <tr>\n",
       "      <th>11627</th>\n",
       "      <td>8.390836</td>\n",
       "      <td>-2.782887</td>\n",
       "      <td>5.007094</td>\n",
       "    </tr>\n",
       "  </tbody>\n",
       "</table>\n",
       "<p>25000 rows × 3 columns</p>\n",
       "</div>"
      ],
      "text/plain": [
       "              f0        f1        f2\n",
       "75721   6.078076  0.084568  0.002957\n",
       "80184  16.462386  2.712946  1.993030\n",
       "19864   7.051898  0.766983  4.990194\n",
       "76699  -0.240045 -0.380804  3.999693\n",
       "92991  13.350111 -8.558281  0.002010\n",
       "...          ...       ...       ...\n",
       "21271   8.141417 -0.832158  4.001976\n",
       "34014  16.601751 -8.141232  2.010371\n",
       "81355  14.674777 -5.633890  1.004171\n",
       "65720  -1.381118 -5.464254  4.001648\n",
       "11627   8.390836 -2.782887  5.007094\n",
       "\n",
       "[25000 rows x 3 columns]"
      ]
     },
     "metadata": {},
     "output_type": "display_data"
    },
    {
     "data": {
      "text/plain": [
       "75721      0.000000\n",
       "80184     53.906522\n",
       "19864    134.766305\n",
       "76699    107.813044\n",
       "92991      0.000000\n",
       "            ...    \n",
       "21271    107.813044\n",
       "34014     53.906522\n",
       "81355     26.953261\n",
       "65720    110.992147\n",
       "11627    134.766305\n",
       "Name: product, Length: 25000, dtype: float64"
      ]
     },
     "metadata": {},
     "output_type": "display_data"
    },
    {
     "name": "stdout",
     "output_type": "stream",
     "text": [
      "---------------------------------------------\n",
      "Region-2\n",
      "---------------------------------------------\n",
      "Train\n"
     ]
    },
    {
     "data": {
      "text/html": [
       "<div>\n",
       "<style scoped>\n",
       "    .dataframe tbody tr th:only-of-type {\n",
       "        vertical-align: middle;\n",
       "    }\n",
       "\n",
       "    .dataframe tbody tr th {\n",
       "        vertical-align: top;\n",
       "    }\n",
       "\n",
       "    .dataframe thead th {\n",
       "        text-align: right;\n",
       "    }\n",
       "</style>\n",
       "<table border=\"1\" class=\"dataframe\">\n",
       "  <thead>\n",
       "    <tr style=\"text-align: right;\">\n",
       "      <th></th>\n",
       "      <th>f0</th>\n",
       "      <th>f1</th>\n",
       "      <th>f2</th>\n",
       "    </tr>\n",
       "  </thead>\n",
       "  <tbody>\n",
       "    <tr>\n",
       "      <th>98980</th>\n",
       "      <td>-0.592927</td>\n",
       "      <td>-2.323059</td>\n",
       "      <td>5.344840</td>\n",
       "    </tr>\n",
       "    <tr>\n",
       "      <th>69824</th>\n",
       "      <td>-0.690844</td>\n",
       "      <td>1.715501</td>\n",
       "      <td>-1.331142</td>\n",
       "    </tr>\n",
       "    <tr>\n",
       "      <th>9928</th>\n",
       "      <td>1.741680</td>\n",
       "      <td>-1.604639</td>\n",
       "      <td>0.499745</td>\n",
       "    </tr>\n",
       "    <tr>\n",
       "      <th>75599</th>\n",
       "      <td>-1.354850</td>\n",
       "      <td>0.984588</td>\n",
       "      <td>5.683113</td>\n",
       "    </tr>\n",
       "    <tr>\n",
       "      <th>95621</th>\n",
       "      <td>1.075114</td>\n",
       "      <td>1.175117</td>\n",
       "      <td>1.010025</td>\n",
       "    </tr>\n",
       "    <tr>\n",
       "      <th>...</th>\n",
       "      <td>...</td>\n",
       "      <td>...</td>\n",
       "      <td>...</td>\n",
       "    </tr>\n",
       "    <tr>\n",
       "      <th>6265</th>\n",
       "      <td>-1.842672</td>\n",
       "      <td>-0.003145</td>\n",
       "      <td>0.926830</td>\n",
       "    </tr>\n",
       "    <tr>\n",
       "      <th>54886</th>\n",
       "      <td>0.079216</td>\n",
       "      <td>1.076507</td>\n",
       "      <td>3.761491</td>\n",
       "    </tr>\n",
       "    <tr>\n",
       "      <th>76820</th>\n",
       "      <td>-2.285696</td>\n",
       "      <td>1.500897</td>\n",
       "      <td>-1.051454</td>\n",
       "    </tr>\n",
       "    <tr>\n",
       "      <th>860</th>\n",
       "      <td>-1.446403</td>\n",
       "      <td>-2.164471</td>\n",
       "      <td>3.334692</td>\n",
       "    </tr>\n",
       "    <tr>\n",
       "      <th>15795</th>\n",
       "      <td>1.381842</td>\n",
       "      <td>2.413188</td>\n",
       "      <td>5.973761</td>\n",
       "    </tr>\n",
       "  </tbody>\n",
       "</table>\n",
       "<p>75000 rows × 3 columns</p>\n",
       "</div>"
      ],
      "text/plain": [
       "             f0        f1        f2\n",
       "98980 -0.592927 -2.323059  5.344840\n",
       "69824 -0.690844  1.715501 -1.331142\n",
       "9928   1.741680 -1.604639  0.499745\n",
       "75599 -1.354850  0.984588  5.683113\n",
       "95621  1.075114  1.175117  1.010025\n",
       "...         ...       ...       ...\n",
       "6265  -1.842672 -0.003145  0.926830\n",
       "54886  0.079216  1.076507  3.761491\n",
       "76820 -2.285696  1.500897 -1.051454\n",
       "860   -1.446403 -2.164471  3.334692\n",
       "15795  1.381842  2.413188  5.973761\n",
       "\n",
       "[75000 rows x 3 columns]"
      ]
     },
     "metadata": {},
     "output_type": "display_data"
    },
    {
     "data": {
      "text/plain": [
       "98980    122.402114\n",
       "69824     43.299623\n",
       "9928     144.915121\n",
       "75599    114.038791\n",
       "95621     95.600308\n",
       "            ...    \n",
       "6265      54.598839\n",
       "54886     63.428292\n",
       "76820     37.780858\n",
       "860       68.317185\n",
       "15795    147.700315\n",
       "Name: product, Length: 75000, dtype: float64"
      ]
     },
     "metadata": {},
     "output_type": "display_data"
    },
    {
     "name": "stdout",
     "output_type": "stream",
     "text": [
      "Valid\n"
     ]
    },
    {
     "data": {
      "text/html": [
       "<div>\n",
       "<style scoped>\n",
       "    .dataframe tbody tr th:only-of-type {\n",
       "        vertical-align: middle;\n",
       "    }\n",
       "\n",
       "    .dataframe tbody tr th {\n",
       "        vertical-align: top;\n",
       "    }\n",
       "\n",
       "    .dataframe thead th {\n",
       "        text-align: right;\n",
       "    }\n",
       "</style>\n",
       "<table border=\"1\" class=\"dataframe\">\n",
       "  <thead>\n",
       "    <tr style=\"text-align: right;\">\n",
       "      <th></th>\n",
       "      <th>f0</th>\n",
       "      <th>f1</th>\n",
       "      <th>f2</th>\n",
       "    </tr>\n",
       "  </thead>\n",
       "  <tbody>\n",
       "    <tr>\n",
       "      <th>75721</th>\n",
       "      <td>2.111118</td>\n",
       "      <td>-1.679773</td>\n",
       "      <td>3.112240</td>\n",
       "    </tr>\n",
       "    <tr>\n",
       "      <th>80184</th>\n",
       "      <td>0.734759</td>\n",
       "      <td>0.747788</td>\n",
       "      <td>3.670879</td>\n",
       "    </tr>\n",
       "    <tr>\n",
       "      <th>19864</th>\n",
       "      <td>-2.513109</td>\n",
       "      <td>0.844631</td>\n",
       "      <td>-4.922889</td>\n",
       "    </tr>\n",
       "    <tr>\n",
       "      <th>76699</th>\n",
       "      <td>-2.035301</td>\n",
       "      <td>-1.522988</td>\n",
       "      <td>5.072839</td>\n",
       "    </tr>\n",
       "    <tr>\n",
       "      <th>92991</th>\n",
       "      <td>2.744145</td>\n",
       "      <td>1.429952</td>\n",
       "      <td>-1.372661</td>\n",
       "    </tr>\n",
       "    <tr>\n",
       "      <th>...</th>\n",
       "      <td>...</td>\n",
       "      <td>...</td>\n",
       "      <td>...</td>\n",
       "    </tr>\n",
       "    <tr>\n",
       "      <th>21271</th>\n",
       "      <td>-1.532677</td>\n",
       "      <td>0.365315</td>\n",
       "      <td>3.840436</td>\n",
       "    </tr>\n",
       "    <tr>\n",
       "      <th>34014</th>\n",
       "      <td>1.381244</td>\n",
       "      <td>1.168552</td>\n",
       "      <td>2.262261</td>\n",
       "    </tr>\n",
       "    <tr>\n",
       "      <th>81355</th>\n",
       "      <td>2.902487</td>\n",
       "      <td>0.839203</td>\n",
       "      <td>-2.817721</td>\n",
       "    </tr>\n",
       "    <tr>\n",
       "      <th>65720</th>\n",
       "      <td>0.942093</td>\n",
       "      <td>-1.424641</td>\n",
       "      <td>0.567559</td>\n",
       "    </tr>\n",
       "    <tr>\n",
       "      <th>11627</th>\n",
       "      <td>1.015823</td>\n",
       "      <td>-1.600172</td>\n",
       "      <td>1.054157</td>\n",
       "    </tr>\n",
       "  </tbody>\n",
       "</table>\n",
       "<p>25000 rows × 3 columns</p>\n",
       "</div>"
      ],
      "text/plain": [
       "             f0        f1        f2\n",
       "75721  2.111118 -1.679773  3.112240\n",
       "80184  0.734759  0.747788  3.670879\n",
       "19864 -2.513109  0.844631 -4.922889\n",
       "76699 -2.035301 -1.522988  5.072839\n",
       "92991  2.744145  1.429952 -1.372661\n",
       "...         ...       ...       ...\n",
       "21271 -1.532677  0.365315  3.840436\n",
       "34014  1.381244  1.168552  2.262261\n",
       "81355  2.902487  0.839203 -2.817721\n",
       "65720  0.942093 -1.424641  0.567559\n",
       "11627  1.015823 -1.600172  1.054157\n",
       "\n",
       "[25000 rows x 3 columns]"
      ]
     },
     "metadata": {},
     "output_type": "display_data"
    },
    {
     "data": {
      "text/plain": [
       "75721    117.441301\n",
       "80184     47.841249\n",
       "19864     45.883483\n",
       "76699    139.014608\n",
       "92991     84.004276\n",
       "            ...    \n",
       "21271     40.797226\n",
       "34014     87.144239\n",
       "81355     52.039812\n",
       "65720    136.961454\n",
       "11627    109.173206\n",
       "Name: product, Length: 25000, dtype: float64"
      ]
     },
     "metadata": {},
     "output_type": "display_data"
    }
   ],
   "source": [
    "X_train = {}\n",
    "X_valid = {}\n",
    "y_train = {}\n",
    "y_valid = {}\n",
    "for i in range(3):\n",
    "    print('---------------------------------------------')\n",
    "    print(f'Region-{i}')\n",
    "    print('---------------------------------------------')\n",
    "    X_train[i], X_valid[i], y_train[i], y_valid[i] = train_test_split(data[i].drop(columns=['product']),\n",
    "                                                                      data[i]['product'],\n",
    "                                                                      test_size=0.25, \n",
    "                                                                      random_state=42)\n",
    "    print('Train')\n",
    "    display(X_train[i])\n",
    "    display(y_train[i])\n",
    "    print('Valid')\n",
    "    display(X_valid[i])\n",
    "    display(y_valid[i])"
   ]
  },
  {
   "cell_type": "markdown",
   "metadata": {},
   "source": [
    "Разделила датасет каждого региона на обучающую и валидационную выборки в соотнощении 75:25."
   ]
  },
  {
   "cell_type": "code",
   "execution_count": 5,
   "metadata": {},
   "outputs": [],
   "source": [
    "def get_standart_data(X_train, X_valid):\n",
    "    scaler = StandardScaler()\n",
    "    scaler.fit(X_train)\n",
    "    return (pd.DataFrame(data=scaler.transform(X_train), columns=X_train.columns, index=X_train.index), \n",
    "            pd.DataFrame(data=scaler.transform(X_valid), columns=X_valid.columns, index=X_valid.index))\n",
    "#функция принимает два датасета X_train, X_valid, обучает экземпляр StandardScaler на X_train, трансформирует X_train, X_valid,\n",
    "#выдает кортеж из стандартизированных датасетов X_train, X_valid"
   ]
  },
  {
   "cell_type": "code",
   "execution_count": 6,
   "metadata": {
    "scrolled": false
   },
   "outputs": [
    {
     "name": "stdout",
     "output_type": "stream",
     "text": [
      "---------------------------------------------\n",
      "Region-0\n",
      "---------------------------------------------\n",
      "Train\n"
     ]
    },
    {
     "data": {
      "text/html": [
       "<div>\n",
       "<style scoped>\n",
       "    .dataframe tbody tr th:only-of-type {\n",
       "        vertical-align: middle;\n",
       "    }\n",
       "\n",
       "    .dataframe tbody tr th {\n",
       "        vertical-align: top;\n",
       "    }\n",
       "\n",
       "    .dataframe thead th {\n",
       "        text-align: right;\n",
       "    }\n",
       "</style>\n",
       "<table border=\"1\" class=\"dataframe\">\n",
       "  <thead>\n",
       "    <tr style=\"text-align: right;\">\n",
       "      <th></th>\n",
       "      <th>f0</th>\n",
       "      <th>f1</th>\n",
       "      <th>f2</th>\n",
       "    </tr>\n",
       "  </thead>\n",
       "  <tbody>\n",
       "    <tr>\n",
       "      <th>98980</th>\n",
       "      <td>1.274786</td>\n",
       "      <td>-0.799739</td>\n",
       "      <td>-0.396677</td>\n",
       "    </tr>\n",
       "    <tr>\n",
       "      <th>69824</th>\n",
       "      <td>-1.600689</td>\n",
       "      <td>0.234678</td>\n",
       "      <td>-2.169283</td>\n",
       "    </tr>\n",
       "    <tr>\n",
       "      <th>9928</th>\n",
       "      <td>-0.323791</td>\n",
       "      <td>1.436297</td>\n",
       "      <td>1.495425</td>\n",
       "    </tr>\n",
       "    <tr>\n",
       "      <th>75599</th>\n",
       "      <td>0.439038</td>\n",
       "      <td>0.830679</td>\n",
       "      <td>0.185881</td>\n",
       "    </tr>\n",
       "    <tr>\n",
       "      <th>95621</th>\n",
       "      <td>-1.652805</td>\n",
       "      <td>0.761012</td>\n",
       "      <td>0.111734</td>\n",
       "    </tr>\n",
       "    <tr>\n",
       "      <th>...</th>\n",
       "      <td>...</td>\n",
       "      <td>...</td>\n",
       "      <td>...</td>\n",
       "    </tr>\n",
       "    <tr>\n",
       "      <th>6265</th>\n",
       "      <td>1.291452</td>\n",
       "      <td>-0.712129</td>\n",
       "      <td>0.135573</td>\n",
       "    </tr>\n",
       "    <tr>\n",
       "      <th>54886</th>\n",
       "      <td>1.355542</td>\n",
       "      <td>-0.882161</td>\n",
       "      <td>-1.134411</td>\n",
       "    </tr>\n",
       "    <tr>\n",
       "      <th>76820</th>\n",
       "      <td>0.549229</td>\n",
       "      <td>-1.591632</td>\n",
       "      <td>0.119090</td>\n",
       "    </tr>\n",
       "    <tr>\n",
       "      <th>860</th>\n",
       "      <td>0.175176</td>\n",
       "      <td>-1.459344</td>\n",
       "      <td>1.429524</td>\n",
       "    </tr>\n",
       "    <tr>\n",
       "      <th>15795</th>\n",
       "      <td>1.029803</td>\n",
       "      <td>-1.420625</td>\n",
       "      <td>-0.149459</td>\n",
       "    </tr>\n",
       "  </tbody>\n",
       "</table>\n",
       "<p>75000 rows × 3 columns</p>\n",
       "</div>"
      ],
      "text/plain": [
       "             f0        f1        f2\n",
       "98980  1.274786 -0.799739 -0.396677\n",
       "69824 -1.600689  0.234678 -2.169283\n",
       "9928  -0.323791  1.436297  1.495425\n",
       "75599  0.439038  0.830679  0.185881\n",
       "95621 -1.652805  0.761012  0.111734\n",
       "...         ...       ...       ...\n",
       "6265   1.291452 -0.712129  0.135573\n",
       "54886  1.355542 -0.882161 -1.134411\n",
       "76820  0.549229 -1.591632  0.119090\n",
       "860    0.175176 -1.459344  1.429524\n",
       "15795  1.029803 -1.420625 -0.149459\n",
       "\n",
       "[75000 rows x 3 columns]"
      ]
     },
     "metadata": {},
     "output_type": "display_data"
    },
    {
     "data": {
      "text/html": [
       "<div>\n",
       "<style scoped>\n",
       "    .dataframe tbody tr th:only-of-type {\n",
       "        vertical-align: middle;\n",
       "    }\n",
       "\n",
       "    .dataframe tbody tr th {\n",
       "        vertical-align: top;\n",
       "    }\n",
       "\n",
       "    .dataframe thead th {\n",
       "        text-align: right;\n",
       "    }\n",
       "</style>\n",
       "<table border=\"1\" class=\"dataframe\">\n",
       "  <thead>\n",
       "    <tr style=\"text-align: right;\">\n",
       "      <th></th>\n",
       "      <th>f0</th>\n",
       "      <th>f1</th>\n",
       "      <th>f2</th>\n",
       "    </tr>\n",
       "  </thead>\n",
       "  <tbody>\n",
       "    <tr>\n",
       "      <th>count</th>\n",
       "      <td>7.500000e+04</td>\n",
       "      <td>7.500000e+04</td>\n",
       "      <td>7.500000e+04</td>\n",
       "    </tr>\n",
       "    <tr>\n",
       "      <th>mean</th>\n",
       "      <td>-9.488114e-17</td>\n",
       "      <td>3.628505e-17</td>\n",
       "      <td>3.273234e-17</td>\n",
       "    </tr>\n",
       "    <tr>\n",
       "      <th>std</th>\n",
       "      <td>1.000007e+00</td>\n",
       "      <td>1.000007e+00</td>\n",
       "      <td>1.000007e+00</td>\n",
       "    </tr>\n",
       "    <tr>\n",
       "      <th>min</th>\n",
       "      <td>-2.188139e+00</td>\n",
       "      <td>-2.182397e+00</td>\n",
       "      <td>-3.892907e+00</td>\n",
       "    </tr>\n",
       "    <tr>\n",
       "      <th>25%</th>\n",
       "      <td>-6.589992e-01</td>\n",
       "      <td>-8.917428e-01</td>\n",
       "      <td>-6.836300e-01</td>\n",
       "    </tr>\n",
       "    <tr>\n",
       "      <th>50%</th>\n",
       "      <td>3.205561e-03</td>\n",
       "      <td>2.611348e-03</td>\n",
       "      <td>4.889632e-03</td>\n",
       "    </tr>\n",
       "    <tr>\n",
       "      <th>75%</th>\n",
       "      <td>6.547445e-01</td>\n",
       "      <td>8.901383e-01</td>\n",
       "      <td>6.809043e-01</td>\n",
       "    </tr>\n",
       "    <tr>\n",
       "      <th>max</th>\n",
       "      <td>2.135099e+00</td>\n",
       "      <td>2.145152e+00</td>\n",
       "      <td>4.152764e+00</td>\n",
       "    </tr>\n",
       "  </tbody>\n",
       "</table>\n",
       "</div>"
      ],
      "text/plain": [
       "                 f0            f1            f2\n",
       "count  7.500000e+04  7.500000e+04  7.500000e+04\n",
       "mean  -9.488114e-17  3.628505e-17  3.273234e-17\n",
       "std    1.000007e+00  1.000007e+00  1.000007e+00\n",
       "min   -2.188139e+00 -2.182397e+00 -3.892907e+00\n",
       "25%   -6.589992e-01 -8.917428e-01 -6.836300e-01\n",
       "50%    3.205561e-03  2.611348e-03  4.889632e-03\n",
       "75%    6.547445e-01  8.901383e-01  6.809043e-01\n",
       "max    2.135099e+00  2.145152e+00  4.152764e+00"
      ]
     },
     "metadata": {},
     "output_type": "display_data"
    },
    {
     "name": "stdout",
     "output_type": "stream",
     "text": [
      "Valid\n"
     ]
    },
    {
     "data": {
      "text/html": [
       "<div>\n",
       "<style scoped>\n",
       "    .dataframe tbody tr th:only-of-type {\n",
       "        vertical-align: middle;\n",
       "    }\n",
       "\n",
       "    .dataframe tbody tr th {\n",
       "        vertical-align: top;\n",
       "    }\n",
       "\n",
       "    .dataframe thead th {\n",
       "        text-align: right;\n",
       "    }\n",
       "</style>\n",
       "<table border=\"1\" class=\"dataframe\">\n",
       "  <thead>\n",
       "    <tr style=\"text-align: right;\">\n",
       "      <th></th>\n",
       "      <th>f0</th>\n",
       "      <th>f1</th>\n",
       "      <th>f2</th>\n",
       "    </tr>\n",
       "  </thead>\n",
       "  <tbody>\n",
       "    <tr>\n",
       "      <th>75721</th>\n",
       "      <td>0.113830</td>\n",
       "      <td>-1.605391</td>\n",
       "      <td>-0.119836</td>\n",
       "    </tr>\n",
       "    <tr>\n",
       "      <th>80184</th>\n",
       "      <td>0.274030</td>\n",
       "      <td>-1.417818</td>\n",
       "      <td>-1.187407</td>\n",
       "    </tr>\n",
       "    <tr>\n",
       "      <th>19864</th>\n",
       "      <td>1.057896</td>\n",
       "      <td>-1.560307</td>\n",
       "      <td>0.371855</td>\n",
       "    </tr>\n",
       "    <tr>\n",
       "      <th>76699</th>\n",
       "      <td>1.238466</td>\n",
       "      <td>-0.971658</td>\n",
       "      <td>0.090665</td>\n",
       "    </tr>\n",
       "    <tr>\n",
       "      <th>92991</th>\n",
       "      <td>0.480343</td>\n",
       "      <td>-0.450600</td>\n",
       "      <td>0.027088</td>\n",
       "    </tr>\n",
       "    <tr>\n",
       "      <th>...</th>\n",
       "      <td>...</td>\n",
       "      <td>...</td>\n",
       "      <td>...</td>\n",
       "    </tr>\n",
       "    <tr>\n",
       "      <th>21271</th>\n",
       "      <td>0.291949</td>\n",
       "      <td>-1.515226</td>\n",
       "      <td>0.030842</td>\n",
       "    </tr>\n",
       "    <tr>\n",
       "      <th>34014</th>\n",
       "      <td>-0.644370</td>\n",
       "      <td>0.528145</td>\n",
       "      <td>-0.552783</td>\n",
       "    </tr>\n",
       "    <tr>\n",
       "      <th>81355</th>\n",
       "      <td>0.107509</td>\n",
       "      <td>-1.342572</td>\n",
       "      <td>-0.934248</td>\n",
       "    </tr>\n",
       "    <tr>\n",
       "      <th>65720</th>\n",
       "      <td>-0.345986</td>\n",
       "      <td>0.403163</td>\n",
       "      <td>-0.311768</td>\n",
       "    </tr>\n",
       "    <tr>\n",
       "      <th>11627</th>\n",
       "      <td>-0.856089</td>\n",
       "      <td>1.513279</td>\n",
       "      <td>0.667150</td>\n",
       "    </tr>\n",
       "  </tbody>\n",
       "</table>\n",
       "<p>25000 rows × 3 columns</p>\n",
       "</div>"
      ],
      "text/plain": [
       "             f0        f1        f2\n",
       "75721  0.113830 -1.605391 -0.119836\n",
       "80184  0.274030 -1.417818 -1.187407\n",
       "19864  1.057896 -1.560307  0.371855\n",
       "76699  1.238466 -0.971658  0.090665\n",
       "92991  0.480343 -0.450600  0.027088\n",
       "...         ...       ...       ...\n",
       "21271  0.291949 -1.515226  0.030842\n",
       "34014 -0.644370  0.528145 -0.552783\n",
       "81355  0.107509 -1.342572 -0.934248\n",
       "65720 -0.345986  0.403163 -0.311768\n",
       "11627 -0.856089  1.513279  0.667150\n",
       "\n",
       "[25000 rows x 3 columns]"
      ]
     },
     "metadata": {},
     "output_type": "display_data"
    },
    {
     "data": {
      "text/html": [
       "<div>\n",
       "<style scoped>\n",
       "    .dataframe tbody tr th:only-of-type {\n",
       "        vertical-align: middle;\n",
       "    }\n",
       "\n",
       "    .dataframe tbody tr th {\n",
       "        vertical-align: top;\n",
       "    }\n",
       "\n",
       "    .dataframe thead th {\n",
       "        text-align: right;\n",
       "    }\n",
       "</style>\n",
       "<table border=\"1\" class=\"dataframe\">\n",
       "  <thead>\n",
       "    <tr style=\"text-align: right;\">\n",
       "      <th></th>\n",
       "      <th>f0</th>\n",
       "      <th>f1</th>\n",
       "      <th>f2</th>\n",
       "    </tr>\n",
       "  </thead>\n",
       "  <tbody>\n",
       "    <tr>\n",
       "      <th>count</th>\n",
       "      <td>25000.000000</td>\n",
       "      <td>25000.000000</td>\n",
       "      <td>25000.000000</td>\n",
       "    </tr>\n",
       "    <tr>\n",
       "      <th>mean</th>\n",
       "      <td>0.001946</td>\n",
       "      <td>-0.005980</td>\n",
       "      <td>-0.009740</td>\n",
       "    </tr>\n",
       "    <tr>\n",
       "      <th>std</th>\n",
       "      <td>0.998089</td>\n",
       "      <td>1.006369</td>\n",
       "      <td>0.998770</td>\n",
       "    </tr>\n",
       "    <tr>\n",
       "      <th>min</th>\n",
       "      <td>-2.015492</td>\n",
       "      <td>-2.175823</td>\n",
       "      <td>-4.493047</td>\n",
       "    </tr>\n",
       "    <tr>\n",
       "      <th>25%</th>\n",
       "      <td>-0.650799</td>\n",
       "      <td>-0.915047</td>\n",
       "      <td>-0.685719</td>\n",
       "    </tr>\n",
       "    <tr>\n",
       "      <th>50%</th>\n",
       "      <td>0.000411</td>\n",
       "      <td>-0.013012</td>\n",
       "      <td>-0.007607</td>\n",
       "    </tr>\n",
       "    <tr>\n",
       "      <th>75%</th>\n",
       "      <td>0.666343</td>\n",
       "      <td>0.900522</td>\n",
       "      <td>0.672512</td>\n",
       "    </tr>\n",
       "    <tr>\n",
       "      <th>max</th>\n",
       "      <td>2.042207</td>\n",
       "      <td>2.170004</td>\n",
       "      <td>3.848217</td>\n",
       "    </tr>\n",
       "  </tbody>\n",
       "</table>\n",
       "</div>"
      ],
      "text/plain": [
       "                 f0            f1            f2\n",
       "count  25000.000000  25000.000000  25000.000000\n",
       "mean       0.001946     -0.005980     -0.009740\n",
       "std        0.998089      1.006369      0.998770\n",
       "min       -2.015492     -2.175823     -4.493047\n",
       "25%       -0.650799     -0.915047     -0.685719\n",
       "50%        0.000411     -0.013012     -0.007607\n",
       "75%        0.666343      0.900522      0.672512\n",
       "max        2.042207      2.170004      3.848217"
      ]
     },
     "metadata": {},
     "output_type": "display_data"
    },
    {
     "name": "stdout",
     "output_type": "stream",
     "text": [
      "---------------------------------------------\n",
      "Region-1\n",
      "---------------------------------------------\n",
      "Train\n"
     ]
    },
    {
     "data": {
      "text/html": [
       "<div>\n",
       "<style scoped>\n",
       "    .dataframe tbody tr th:only-of-type {\n",
       "        vertical-align: middle;\n",
       "    }\n",
       "\n",
       "    .dataframe tbody tr th {\n",
       "        vertical-align: top;\n",
       "    }\n",
       "\n",
       "    .dataframe thead th {\n",
       "        text-align: right;\n",
       "    }\n",
       "</style>\n",
       "<table border=\"1\" class=\"dataframe\">\n",
       "  <thead>\n",
       "    <tr style=\"text-align: right;\">\n",
       "      <th></th>\n",
       "      <th>f0</th>\n",
       "      <th>f1</th>\n",
       "      <th>f2</th>\n",
       "    </tr>\n",
       "  </thead>\n",
       "  <tbody>\n",
       "    <tr>\n",
       "      <th>98980</th>\n",
       "      <td>0.911229</td>\n",
       "      <td>0.063780</td>\n",
       "      <td>-0.291331</td>\n",
       "    </tr>\n",
       "    <tr>\n",
       "      <th>69824</th>\n",
       "      <td>1.640885</td>\n",
       "      <td>1.320793</td>\n",
       "      <td>1.463778</td>\n",
       "    </tr>\n",
       "    <tr>\n",
       "      <th>9928</th>\n",
       "      <td>-0.303818</td>\n",
       "      <td>0.859595</td>\n",
       "      <td>0.297952</td>\n",
       "    </tr>\n",
       "    <tr>\n",
       "      <th>75599</th>\n",
       "      <td>1.250304</td>\n",
       "      <td>-0.332629</td>\n",
       "      <td>-0.290244</td>\n",
       "    </tr>\n",
       "    <tr>\n",
       "      <th>95621</th>\n",
       "      <td>-0.678630</td>\n",
       "      <td>-0.629111</td>\n",
       "      <td>-0.877242</td>\n",
       "    </tr>\n",
       "    <tr>\n",
       "      <th>...</th>\n",
       "      <td>...</td>\n",
       "      <td>...</td>\n",
       "      <td>...</td>\n",
       "    </tr>\n",
       "    <tr>\n",
       "      <th>6265</th>\n",
       "      <td>-1.140795</td>\n",
       "      <td>-1.002097</td>\n",
       "      <td>-0.879911</td>\n",
       "    </tr>\n",
       "    <tr>\n",
       "      <th>54886</th>\n",
       "      <td>0.152004</td>\n",
       "      <td>0.240185</td>\n",
       "      <td>0.885308</td>\n",
       "    </tr>\n",
       "    <tr>\n",
       "      <th>76820</th>\n",
       "      <td>1.148086</td>\n",
       "      <td>1.645749</td>\n",
       "      <td>-0.879260</td>\n",
       "    </tr>\n",
       "    <tr>\n",
       "      <th>860</th>\n",
       "      <td>-0.372035</td>\n",
       "      <td>-0.273312</td>\n",
       "      <td>-1.460326</td>\n",
       "    </tr>\n",
       "    <tr>\n",
       "      <th>15795</th>\n",
       "      <td>0.950361</td>\n",
       "      <td>0.148686</td>\n",
       "      <td>1.464975</td>\n",
       "    </tr>\n",
       "  </tbody>\n",
       "</table>\n",
       "<p>75000 rows × 3 columns</p>\n",
       "</div>"
      ],
      "text/plain": [
       "             f0        f1        f2\n",
       "98980  0.911229  0.063780 -0.291331\n",
       "69824  1.640885  1.320793  1.463778\n",
       "9928  -0.303818  0.859595  0.297952\n",
       "75599  1.250304 -0.332629 -0.290244\n",
       "95621 -0.678630 -0.629111 -0.877242\n",
       "...         ...       ...       ...\n",
       "6265  -1.140795 -1.002097 -0.879911\n",
       "54886  0.152004  0.240185  0.885308\n",
       "76820  1.148086  1.645749 -0.879260\n",
       "860   -0.372035 -0.273312 -1.460326\n",
       "15795  0.950361  0.148686  1.464975\n",
       "\n",
       "[75000 rows x 3 columns]"
      ]
     },
     "metadata": {},
     "output_type": "display_data"
    },
    {
     "data": {
      "text/html": [
       "<div>\n",
       "<style scoped>\n",
       "    .dataframe tbody tr th:only-of-type {\n",
       "        vertical-align: middle;\n",
       "    }\n",
       "\n",
       "    .dataframe tbody tr th {\n",
       "        vertical-align: top;\n",
       "    }\n",
       "\n",
       "    .dataframe thead th {\n",
       "        text-align: right;\n",
       "    }\n",
       "</style>\n",
       "<table border=\"1\" class=\"dataframe\">\n",
       "  <thead>\n",
       "    <tr style=\"text-align: right;\">\n",
       "      <th></th>\n",
       "      <th>f0</th>\n",
       "      <th>f1</th>\n",
       "      <th>f2</th>\n",
       "    </tr>\n",
       "  </thead>\n",
       "  <tbody>\n",
       "    <tr>\n",
       "      <th>count</th>\n",
       "      <td>7.500000e+04</td>\n",
       "      <td>7.500000e+04</td>\n",
       "      <td>7.500000e+04</td>\n",
       "    </tr>\n",
       "    <tr>\n",
       "      <th>mean</th>\n",
       "      <td>-2.283211e-17</td>\n",
       "      <td>5.532759e-17</td>\n",
       "      <td>1.630459e-16</td>\n",
       "    </tr>\n",
       "    <tr>\n",
       "      <th>std</th>\n",
       "      <td>1.000007e+00</td>\n",
       "      <td>1.000007e+00</td>\n",
       "      <td>1.000007e+00</td>\n",
       "    </tr>\n",
       "    <tr>\n",
       "      <th>min</th>\n",
       "      <td>-3.652284e+00</td>\n",
       "      <td>-4.211144e+00</td>\n",
       "      <td>-1.475801e+00</td>\n",
       "    </tr>\n",
       "    <tr>\n",
       "      <th>25%</th>\n",
       "      <td>-8.296259e-01</td>\n",
       "      <td>-6.770941e-01</td>\n",
       "      <td>-8.780706e-01</td>\n",
       "    </tr>\n",
       "    <tr>\n",
       "      <th>50%</th>\n",
       "      <td>4.018308e-03</td>\n",
       "      <td>-3.411787e-03</td>\n",
       "      <td>-2.839520e-01</td>\n",
       "    </tr>\n",
       "    <tr>\n",
       "      <th>75%</th>\n",
       "      <td>8.338530e-01</td>\n",
       "      <td>6.796487e-01</td>\n",
       "      <td>8.829801e-01</td>\n",
       "    </tr>\n",
       "    <tr>\n",
       "      <th>max</th>\n",
       "      <td>3.156437e+00</td>\n",
       "      <td>4.209555e+00</td>\n",
       "      <td>1.481644e+00</td>\n",
       "    </tr>\n",
       "  </tbody>\n",
       "</table>\n",
       "</div>"
      ],
      "text/plain": [
       "                 f0            f1            f2\n",
       "count  7.500000e+04  7.500000e+04  7.500000e+04\n",
       "mean  -2.283211e-17  5.532759e-17  1.630459e-16\n",
       "std    1.000007e+00  1.000007e+00  1.000007e+00\n",
       "min   -3.652284e+00 -4.211144e+00 -1.475801e+00\n",
       "25%   -8.296259e-01 -6.770941e-01 -8.780706e-01\n",
       "50%    4.018308e-03 -3.411787e-03 -2.839520e-01\n",
       "75%    8.338530e-01  6.796487e-01  8.829801e-01\n",
       "max    3.156437e+00  4.209555e+00  1.481644e+00"
      ]
     },
     "metadata": {},
     "output_type": "display_data"
    },
    {
     "name": "stdout",
     "output_type": "stream",
     "text": [
      "Valid\n"
     ]
    },
    {
     "data": {
      "text/html": [
       "<div>\n",
       "<style scoped>\n",
       "    .dataframe tbody tr th:only-of-type {\n",
       "        vertical-align: middle;\n",
       "    }\n",
       "\n",
       "    .dataframe tbody tr th {\n",
       "        vertical-align: top;\n",
       "    }\n",
       "\n",
       "    .dataframe thead th {\n",
       "        text-align: right;\n",
       "    }\n",
       "</style>\n",
       "<table border=\"1\" class=\"dataframe\">\n",
       "  <thead>\n",
       "    <tr style=\"text-align: right;\">\n",
       "      <th></th>\n",
       "      <th>f0</th>\n",
       "      <th>f1</th>\n",
       "      <th>f2</th>\n",
       "    </tr>\n",
       "  </thead>\n",
       "  <tbody>\n",
       "    <tr>\n",
       "      <th>75721</th>\n",
       "      <td>0.552191</td>\n",
       "      <td>0.955717</td>\n",
       "      <td>-1.463414</td>\n",
       "    </tr>\n",
       "    <tr>\n",
       "      <th>80184</th>\n",
       "      <td>1.710676</td>\n",
       "      <td>1.469288</td>\n",
       "      <td>-0.295155</td>\n",
       "    </tr>\n",
       "    <tr>\n",
       "      <th>19864</th>\n",
       "      <td>0.660832</td>\n",
       "      <td>1.089057</td>\n",
       "      <td>1.464310</td>\n",
       "    </tr>\n",
       "    <tr>\n",
       "      <th>76699</th>\n",
       "      <td>-0.152665</td>\n",
       "      <td>0.864785</td>\n",
       "      <td>0.882843</td>\n",
       "    </tr>\n",
       "    <tr>\n",
       "      <th>92991</th>\n",
       "      <td>1.363467</td>\n",
       "      <td>-0.733052</td>\n",
       "      <td>-1.463970</td>\n",
       "    </tr>\n",
       "    <tr>\n",
       "      <th>...</th>\n",
       "      <td>...</td>\n",
       "      <td>...</td>\n",
       "      <td>...</td>\n",
       "    </tr>\n",
       "    <tr>\n",
       "      <th>21271</th>\n",
       "      <td>0.782380</td>\n",
       "      <td>0.776593</td>\n",
       "      <td>0.884183</td>\n",
       "    </tr>\n",
       "    <tr>\n",
       "      <th>34014</th>\n",
       "      <td>1.726224</td>\n",
       "      <td>-0.651563</td>\n",
       "      <td>-0.284975</td>\n",
       "    </tr>\n",
       "    <tr>\n",
       "      <th>81355</th>\n",
       "      <td>1.511249</td>\n",
       "      <td>-0.161641</td>\n",
       "      <td>-0.875658</td>\n",
       "    </tr>\n",
       "    <tr>\n",
       "      <th>65720</th>\n",
       "      <td>-0.279964</td>\n",
       "      <td>-0.128495</td>\n",
       "      <td>0.883991</td>\n",
       "    </tr>\n",
       "    <tr>\n",
       "      <th>11627</th>\n",
       "      <td>0.810205</td>\n",
       "      <td>0.395430</td>\n",
       "      <td>1.474231</td>\n",
       "    </tr>\n",
       "  </tbody>\n",
       "</table>\n",
       "<p>25000 rows × 3 columns</p>\n",
       "</div>"
      ],
      "text/plain": [
       "             f0        f1        f2\n",
       "75721  0.552191  0.955717 -1.463414\n",
       "80184  1.710676  1.469288 -0.295155\n",
       "19864  0.660832  1.089057  1.464310\n",
       "76699 -0.152665  0.864785  0.882843\n",
       "92991  1.363467 -0.733052 -1.463970\n",
       "...         ...       ...       ...\n",
       "21271  0.782380  0.776593  0.884183\n",
       "34014  1.726224 -0.651563 -0.284975\n",
       "81355  1.511249 -0.161641 -0.875658\n",
       "65720 -0.279964 -0.128495  0.883991\n",
       "11627  0.810205  0.395430  1.474231\n",
       "\n",
       "[25000 rows x 3 columns]"
      ]
     },
     "metadata": {},
     "output_type": "display_data"
    },
    {
     "data": {
      "text/html": [
       "<div>\n",
       "<style scoped>\n",
       "    .dataframe tbody tr th:only-of-type {\n",
       "        vertical-align: middle;\n",
       "    }\n",
       "\n",
       "    .dataframe tbody tr th {\n",
       "        vertical-align: top;\n",
       "    }\n",
       "\n",
       "    .dataframe thead th {\n",
       "        text-align: right;\n",
       "    }\n",
       "</style>\n",
       "<table border=\"1\" class=\"dataframe\">\n",
       "  <thead>\n",
       "    <tr style=\"text-align: right;\">\n",
       "      <th></th>\n",
       "      <th>f0</th>\n",
       "      <th>f1</th>\n",
       "      <th>f2</th>\n",
       "    </tr>\n",
       "  </thead>\n",
       "  <tbody>\n",
       "    <tr>\n",
       "      <th>count</th>\n",
       "      <td>25000.000000</td>\n",
       "      <td>25000.000000</td>\n",
       "      <td>25000.000000</td>\n",
       "    </tr>\n",
       "    <tr>\n",
       "      <th>mean</th>\n",
       "      <td>0.005756</td>\n",
       "      <td>0.007861</td>\n",
       "      <td>-0.002983</td>\n",
       "    </tr>\n",
       "    <tr>\n",
       "      <th>std</th>\n",
       "      <td>1.000983</td>\n",
       "      <td>1.001564</td>\n",
       "      <td>1.000277</td>\n",
       "    </tr>\n",
       "    <tr>\n",
       "      <th>min</th>\n",
       "      <td>-2.891676</td>\n",
       "      <td>-4.021811</td>\n",
       "      <td>-1.475122</td>\n",
       "    </tr>\n",
       "    <tr>\n",
       "      <th>25%</th>\n",
       "      <td>-0.824942</td>\n",
       "      <td>-0.672973</td>\n",
       "      <td>-0.878141</td>\n",
       "    </tr>\n",
       "    <tr>\n",
       "      <th>50%</th>\n",
       "      <td>-0.000730</td>\n",
       "      <td>0.003368</td>\n",
       "      <td>-0.285100</td>\n",
       "    </tr>\n",
       "    <tr>\n",
       "      <th>75%</th>\n",
       "      <td>0.842284</td>\n",
       "      <td>0.677099</td>\n",
       "      <td>0.882936</td>\n",
       "    </tr>\n",
       "    <tr>\n",
       "      <th>max</th>\n",
       "      <td>3.042560</td>\n",
       "      <td>4.599733</td>\n",
       "      <td>1.479434</td>\n",
       "    </tr>\n",
       "  </tbody>\n",
       "</table>\n",
       "</div>"
      ],
      "text/plain": [
       "                 f0            f1            f2\n",
       "count  25000.000000  25000.000000  25000.000000\n",
       "mean       0.005756      0.007861     -0.002983\n",
       "std        1.000983      1.001564      1.000277\n",
       "min       -2.891676     -4.021811     -1.475122\n",
       "25%       -0.824942     -0.672973     -0.878141\n",
       "50%       -0.000730      0.003368     -0.285100\n",
       "75%        0.842284      0.677099      0.882936\n",
       "max        3.042560      4.599733      1.479434"
      ]
     },
     "metadata": {},
     "output_type": "display_data"
    },
    {
     "name": "stdout",
     "output_type": "stream",
     "text": [
      "---------------------------------------------\n",
      "Region-2\n",
      "---------------------------------------------\n",
      "Train\n"
     ]
    },
    {
     "data": {
      "text/html": [
       "<div>\n",
       "<style scoped>\n",
       "    .dataframe tbody tr th:only-of-type {\n",
       "        vertical-align: middle;\n",
       "    }\n",
       "\n",
       "    .dataframe tbody tr th {\n",
       "        vertical-align: top;\n",
       "    }\n",
       "\n",
       "    .dataframe thead th {\n",
       "        text-align: right;\n",
       "    }\n",
       "</style>\n",
       "<table border=\"1\" class=\"dataframe\">\n",
       "  <thead>\n",
       "    <tr style=\"text-align: right;\">\n",
       "      <th></th>\n",
       "      <th>f0</th>\n",
       "      <th>f1</th>\n",
       "      <th>f2</th>\n",
       "    </tr>\n",
       "  </thead>\n",
       "  <tbody>\n",
       "    <tr>\n",
       "      <th>98980</th>\n",
       "      <td>-0.343864</td>\n",
       "      <td>-1.338311</td>\n",
       "      <td>0.817572</td>\n",
       "    </tr>\n",
       "    <tr>\n",
       "      <th>69824</th>\n",
       "      <td>-0.400431</td>\n",
       "      <td>0.993613</td>\n",
       "      <td>-1.102974</td>\n",
       "    </tr>\n",
       "    <tr>\n",
       "      <th>9928</th>\n",
       "      <td>1.004849</td>\n",
       "      <td>-0.923485</td>\n",
       "      <td>-0.576264</td>\n",
       "    </tr>\n",
       "    <tr>\n",
       "      <th>75599</th>\n",
       "      <td>-0.784031</td>\n",
       "      <td>0.571573</td>\n",
       "      <td>0.914886</td>\n",
       "    </tr>\n",
       "    <tr>\n",
       "      <th>95621</th>\n",
       "      <td>0.619771</td>\n",
       "      <td>0.681588</td>\n",
       "      <td>-0.429467</td>\n",
       "    </tr>\n",
       "    <tr>\n",
       "      <th>...</th>\n",
       "      <td>...</td>\n",
       "      <td>...</td>\n",
       "      <td>...</td>\n",
       "    </tr>\n",
       "    <tr>\n",
       "      <th>6265</th>\n",
       "      <td>-1.065848</td>\n",
       "      <td>0.001242</td>\n",
       "      <td>-0.453401</td>\n",
       "    </tr>\n",
       "    <tr>\n",
       "      <th>54886</th>\n",
       "      <td>0.044436</td>\n",
       "      <td>0.624649</td>\n",
       "      <td>0.362074</td>\n",
       "    </tr>\n",
       "    <tr>\n",
       "      <th>76820</th>\n",
       "      <td>-1.321785</td>\n",
       "      <td>0.869697</td>\n",
       "      <td>-1.022513</td>\n",
       "    </tr>\n",
       "    <tr>\n",
       "      <th>860</th>\n",
       "      <td>-0.836921</td>\n",
       "      <td>-1.246740</td>\n",
       "      <td>0.239293</td>\n",
       "    </tr>\n",
       "    <tr>\n",
       "      <th>15795</th>\n",
       "      <td>0.796969</td>\n",
       "      <td>1.396468</td>\n",
       "      <td>0.998500</td>\n",
       "    </tr>\n",
       "  </tbody>\n",
       "</table>\n",
       "<p>75000 rows × 3 columns</p>\n",
       "</div>"
      ],
      "text/plain": [
       "             f0        f1        f2\n",
       "98980 -0.343864 -1.338311  0.817572\n",
       "69824 -0.400431  0.993613 -1.102974\n",
       "9928   1.004849 -0.923485 -0.576264\n",
       "75599 -0.784031  0.571573  0.914886\n",
       "95621  0.619771  0.681588 -0.429467\n",
       "...         ...       ...       ...\n",
       "6265  -1.065848  0.001242 -0.453401\n",
       "54886  0.044436  0.624649  0.362074\n",
       "76820 -1.321785  0.869697 -1.022513\n",
       "860   -0.836921 -1.246740  0.239293\n",
       "15795  0.796969  1.396468  0.998500\n",
       "\n",
       "[75000 rows x 3 columns]"
      ]
     },
     "metadata": {},
     "output_type": "display_data"
    },
    {
     "data": {
      "text/html": [
       "<div>\n",
       "<style scoped>\n",
       "    .dataframe tbody tr th:only-of-type {\n",
       "        vertical-align: middle;\n",
       "    }\n",
       "\n",
       "    .dataframe tbody tr th {\n",
       "        vertical-align: top;\n",
       "    }\n",
       "\n",
       "    .dataframe thead th {\n",
       "        text-align: right;\n",
       "    }\n",
       "</style>\n",
       "<table border=\"1\" class=\"dataframe\">\n",
       "  <thead>\n",
       "    <tr style=\"text-align: right;\">\n",
       "      <th></th>\n",
       "      <th>f0</th>\n",
       "      <th>f1</th>\n",
       "      <th>f2</th>\n",
       "    </tr>\n",
       "  </thead>\n",
       "  <tbody>\n",
       "    <tr>\n",
       "      <th>count</th>\n",
       "      <td>7.500000e+04</td>\n",
       "      <td>7.500000e+04</td>\n",
       "      <td>7.500000e+04</td>\n",
       "    </tr>\n",
       "    <tr>\n",
       "      <th>mean</th>\n",
       "      <td>5.305386e-18</td>\n",
       "      <td>-1.203186e-17</td>\n",
       "      <td>-1.818989e-17</td>\n",
       "    </tr>\n",
       "    <tr>\n",
       "      <th>std</th>\n",
       "      <td>1.000007e+00</td>\n",
       "      <td>1.000007e+00</td>\n",
       "      <td>1.000007e+00</td>\n",
       "    </tr>\n",
       "    <tr>\n",
       "      <th>min</th>\n",
       "      <td>-5.062022e+00</td>\n",
       "      <td>-4.087359e+00</td>\n",
       "      <td>-4.163654e+00</td>\n",
       "    </tr>\n",
       "    <tr>\n",
       "      <th>25%</th>\n",
       "      <td>-6.722684e-01</td>\n",
       "      <td>-6.782630e-01</td>\n",
       "      <td>-6.790620e-01</td>\n",
       "    </tr>\n",
       "    <tr>\n",
       "      <th>50%</th>\n",
       "      <td>4.116749e-03</td>\n",
       "      <td>-4.496735e-03</td>\n",
       "      <td>-1.457466e-03</td>\n",
       "    </tr>\n",
       "    <tr>\n",
       "      <th>75%</th>\n",
       "      <td>6.671673e-01</td>\n",
       "      <td>6.742285e-01</td>\n",
       "      <td>6.800652e-01</td>\n",
       "    </tr>\n",
       "    <tr>\n",
       "      <th>max</th>\n",
       "      <td>4.180251e+00</td>\n",
       "      <td>4.532761e+00</td>\n",
       "      <td>4.095557e+00</td>\n",
       "    </tr>\n",
       "  </tbody>\n",
       "</table>\n",
       "</div>"
      ],
      "text/plain": [
       "                 f0            f1            f2\n",
       "count  7.500000e+04  7.500000e+04  7.500000e+04\n",
       "mean   5.305386e-18 -1.203186e-17 -1.818989e-17\n",
       "std    1.000007e+00  1.000007e+00  1.000007e+00\n",
       "min   -5.062022e+00 -4.087359e+00 -4.163654e+00\n",
       "25%   -6.722684e-01 -6.782630e-01 -6.790620e-01\n",
       "50%    4.116749e-03 -4.496735e-03 -1.457466e-03\n",
       "75%    6.671673e-01  6.742285e-01  6.800652e-01\n",
       "max    4.180251e+00  4.532761e+00  4.095557e+00"
      ]
     },
     "metadata": {},
     "output_type": "display_data"
    },
    {
     "name": "stdout",
     "output_type": "stream",
     "text": [
      "Valid\n"
     ]
    },
    {
     "data": {
      "text/html": [
       "<div>\n",
       "<style scoped>\n",
       "    .dataframe tbody tr th:only-of-type {\n",
       "        vertical-align: middle;\n",
       "    }\n",
       "\n",
       "    .dataframe tbody tr th {\n",
       "        vertical-align: top;\n",
       "    }\n",
       "\n",
       "    .dataframe thead th {\n",
       "        text-align: right;\n",
       "    }\n",
       "</style>\n",
       "<table border=\"1\" class=\"dataframe\">\n",
       "  <thead>\n",
       "    <tr style=\"text-align: right;\">\n",
       "      <th></th>\n",
       "      <th>f0</th>\n",
       "      <th>f1</th>\n",
       "      <th>f2</th>\n",
       "    </tr>\n",
       "  </thead>\n",
       "  <tbody>\n",
       "    <tr>\n",
       "      <th>75721</th>\n",
       "      <td>1.218275</td>\n",
       "      <td>-0.966868</td>\n",
       "      <td>0.175298</td>\n",
       "    </tr>\n",
       "    <tr>\n",
       "      <th>80184</th>\n",
       "      <td>0.423146</td>\n",
       "      <td>0.434841</td>\n",
       "      <td>0.336007</td>\n",
       "    </tr>\n",
       "    <tr>\n",
       "      <th>19864</th>\n",
       "      <td>-1.453162</td>\n",
       "      <td>0.490760</td>\n",
       "      <td>-2.136247</td>\n",
       "    </tr>\n",
       "    <tr>\n",
       "      <th>76699</th>\n",
       "      <td>-1.177130</td>\n",
       "      <td>-0.876338</td>\n",
       "      <td>0.739322</td>\n",
       "    </tr>\n",
       "    <tr>\n",
       "      <th>92991</th>\n",
       "      <td>1.583978</td>\n",
       "      <td>0.828733</td>\n",
       "      <td>-1.114918</td>\n",
       "    </tr>\n",
       "    <tr>\n",
       "      <th>...</th>\n",
       "      <td>...</td>\n",
       "      <td>...</td>\n",
       "      <td>...</td>\n",
       "    </tr>\n",
       "    <tr>\n",
       "      <th>21271</th>\n",
       "      <td>-0.886762</td>\n",
       "      <td>0.213996</td>\n",
       "      <td>0.384785</td>\n",
       "    </tr>\n",
       "    <tr>\n",
       "      <th>34014</th>\n",
       "      <td>0.796624</td>\n",
       "      <td>0.677797</td>\n",
       "      <td>-0.069224</td>\n",
       "    </tr>\n",
       "    <tr>\n",
       "      <th>81355</th>\n",
       "      <td>1.675453</td>\n",
       "      <td>0.487626</td>\n",
       "      <td>-1.530632</td>\n",
       "    </tr>\n",
       "    <tr>\n",
       "      <th>65720</th>\n",
       "      <td>0.542924</td>\n",
       "      <td>-0.819551</td>\n",
       "      <td>-0.556756</td>\n",
       "    </tr>\n",
       "    <tr>\n",
       "      <th>11627</th>\n",
       "      <td>0.585518</td>\n",
       "      <td>-0.920905</td>\n",
       "      <td>-0.416771</td>\n",
       "    </tr>\n",
       "  </tbody>\n",
       "</table>\n",
       "<p>25000 rows × 3 columns</p>\n",
       "</div>"
      ],
      "text/plain": [
       "             f0        f1        f2\n",
       "75721  1.218275 -0.966868  0.175298\n",
       "80184  0.423146  0.434841  0.336007\n",
       "19864 -1.453162  0.490760 -2.136247\n",
       "76699 -1.177130 -0.876338  0.739322\n",
       "92991  1.583978  0.828733 -1.114918\n",
       "...         ...       ...       ...\n",
       "21271 -0.886762  0.213996  0.384785\n",
       "34014  0.796624  0.677797 -0.069224\n",
       "81355  1.675453  0.487626 -1.530632\n",
       "65720  0.542924 -0.819551 -0.556756\n",
       "11627  0.585518 -0.920905 -0.416771\n",
       "\n",
       "[25000 rows x 3 columns]"
      ]
     },
     "metadata": {},
     "output_type": "display_data"
    },
    {
     "data": {
      "text/html": [
       "<div>\n",
       "<style scoped>\n",
       "    .dataframe tbody tr th:only-of-type {\n",
       "        vertical-align: middle;\n",
       "    }\n",
       "\n",
       "    .dataframe tbody tr th {\n",
       "        vertical-align: top;\n",
       "    }\n",
       "\n",
       "    .dataframe thead th {\n",
       "        text-align: right;\n",
       "    }\n",
       "</style>\n",
       "<table border=\"1\" class=\"dataframe\">\n",
       "  <thead>\n",
       "    <tr style=\"text-align: right;\">\n",
       "      <th></th>\n",
       "      <th>f0</th>\n",
       "      <th>f1</th>\n",
       "      <th>f2</th>\n",
       "    </tr>\n",
       "  </thead>\n",
       "  <tbody>\n",
       "    <tr>\n",
       "      <th>count</th>\n",
       "      <td>25000.000000</td>\n",
       "      <td>25000.000000</td>\n",
       "      <td>25000.000000</td>\n",
       "    </tr>\n",
       "    <tr>\n",
       "      <th>mean</th>\n",
       "      <td>-0.000635</td>\n",
       "      <td>0.007425</td>\n",
       "      <td>-0.008932</td>\n",
       "    </tr>\n",
       "    <tr>\n",
       "      <th>std</th>\n",
       "      <td>1.002439</td>\n",
       "      <td>0.996648</td>\n",
       "      <td>0.996926</td>\n",
       "    </tr>\n",
       "    <tr>\n",
       "      <th>min</th>\n",
       "      <td>-3.534406</td>\n",
       "      <td>-3.873919</td>\n",
       "      <td>-3.945092</td>\n",
       "    </tr>\n",
       "    <tr>\n",
       "      <th>25%</th>\n",
       "      <td>-0.675291</td>\n",
       "      <td>-0.666497</td>\n",
       "      <td>-0.689793</td>\n",
       "    </tr>\n",
       "    <tr>\n",
       "      <th>50%</th>\n",
       "      <td>0.004097</td>\n",
       "      <td>0.001848</td>\n",
       "      <td>-0.016347</td>\n",
       "    </tr>\n",
       "    <tr>\n",
       "      <th>75%</th>\n",
       "      <td>0.671700</td>\n",
       "      <td>0.677995</td>\n",
       "      <td>0.670447</td>\n",
       "    </tr>\n",
       "    <tr>\n",
       "      <th>max</th>\n",
       "      <td>4.167116</td>\n",
       "      <td>4.484868</td>\n",
       "      <td>3.781781</td>\n",
       "    </tr>\n",
       "  </tbody>\n",
       "</table>\n",
       "</div>"
      ],
      "text/plain": [
       "                 f0            f1            f2\n",
       "count  25000.000000  25000.000000  25000.000000\n",
       "mean      -0.000635      0.007425     -0.008932\n",
       "std        1.002439      0.996648      0.996926\n",
       "min       -3.534406     -3.873919     -3.945092\n",
       "25%       -0.675291     -0.666497     -0.689793\n",
       "50%        0.004097      0.001848     -0.016347\n",
       "75%        0.671700      0.677995      0.670447\n",
       "max        4.167116      4.484868      3.781781"
      ]
     },
     "metadata": {},
     "output_type": "display_data"
    }
   ],
   "source": [
    "X_standart_train = {}\n",
    "X_standart_valid = {}\n",
    "for i in range(3):\n",
    "    print('---------------------------------------------')\n",
    "    print(f'Region-{i}')\n",
    "    print('---------------------------------------------')\n",
    "    X_standart_train[i], X_standart_valid[i] = get_standart_data(X_train[i], X_valid[i])\n",
    "    print('Train')\n",
    "    display(X_standart_train[i])\n",
    "    display(X_standart_train[i].describe())\n",
    "    print('Valid')\n",
    "    display(X_standart_valid[i])\n",
    "    display(X_standart_valid[i].describe())"
   ]
  },
  {
   "cell_type": "markdown",
   "metadata": {},
   "source": [
    "Провела стандартизацию обучающей и валидационной выборок для каждого региона, с помощью describe можно увидеть, что колонки имеют теперь стандартную форму."
   ]
  },
  {
   "cell_type": "markdown",
   "metadata": {},
   "source": [
    "Вывод:\n",
    "\n",
    "Загрузила данные по трем регионам в словарь датасетов\n",
    "\n",
    "Проверила размер данных и наличие пропущенных ячеек\n",
    "\n",
    "Разделила данные на обучающую и валидационную выборки для каждого региона\n",
    "\n",
    "Провела стандартизацию колонок\n",
    "\n",
    "Данные готовы для обучения"
   ]
  },
  {
   "cell_type": "markdown",
   "metadata": {},
   "source": [
    "## Обучение и проверка модели"
   ]
  },
  {
   "cell_type": "code",
   "execution_count": 7,
   "metadata": {},
   "outputs": [],
   "source": [
    "y_pred = {}\n",
    "model = LinearRegression(fit_intercept=True, n_jobs=-1)\n",
    "for i in range(3):\n",
    "    model.fit(X_standart_train[i], y_train[i])\n",
    "    y_pred[i] = pd.Series(model.predict(X_standart_valid[i]), index=X_standart_valid[i].index)"
   ]
  },
  {
   "cell_type": "markdown",
   "metadata": {},
   "source": [
    "Три раза обучаю модель линейной регрессии для каждого региона отдельно, предсказания на валидационоой выборке сохраняю в колонке predict."
   ]
  },
  {
   "cell_type": "code",
   "execution_count": 8,
   "metadata": {},
   "outputs": [
    {
     "name": "stdout",
     "output_type": "stream",
     "text": [
      "---------------------------------------------\n",
      "Region-0\n",
      "---------------------------------------------\n",
      "True\n"
     ]
    },
    {
     "data": {
      "text/plain": [
       "75721    122.073350\n",
       "80184     48.738540\n",
       "19864    131.338088\n",
       "76699     88.327757\n",
       "92991     36.959266\n",
       "            ...    \n",
       "21271    148.821520\n",
       "34014    123.454003\n",
       "81355     91.945213\n",
       "65720    149.295563\n",
       "11627     57.244039\n",
       "Name: product, Length: 25000, dtype: float64"
      ]
     },
     "metadata": {},
     "output_type": "display_data"
    },
    {
     "name": "stdout",
     "output_type": "stream",
     "text": [
      "Predict\n"
     ]
    },
    {
     "data": {
      "text/plain": [
       "75721    101.901017\n",
       "80184     78.217774\n",
       "19864    115.266901\n",
       "76699    105.618618\n",
       "92991     97.980185\n",
       "            ...    \n",
       "21271    105.076959\n",
       "34014     74.768176\n",
       "81355     82.544397\n",
       "65720     81.826689\n",
       "11627     93.121062\n",
       "Length: 25000, dtype: float64"
      ]
     },
     "metadata": {},
     "output_type": "display_data"
    },
    {
     "name": "stdout",
     "output_type": "stream",
     "text": [
      "---------------------------------------------\n",
      "Region-1\n",
      "---------------------------------------------\n",
      "True\n"
     ]
    },
    {
     "data": {
      "text/plain": [
       "75721      0.000000\n",
       "80184     53.906522\n",
       "19864    134.766305\n",
       "76699    107.813044\n",
       "92991      0.000000\n",
       "            ...    \n",
       "21271    107.813044\n",
       "34014     53.906522\n",
       "81355     26.953261\n",
       "65720    110.992147\n",
       "11627    134.766305\n",
       "Name: product, Length: 25000, dtype: float64"
      ]
     },
     "metadata": {},
     "output_type": "display_data"
    },
    {
     "name": "stdout",
     "output_type": "stream",
     "text": [
      "Predict\n"
     ]
    },
    {
     "data": {
      "text/plain": [
       "75721      0.844738\n",
       "80184     52.921612\n",
       "19864    135.110385\n",
       "76699    109.494863\n",
       "92991     -0.047292\n",
       "            ...    \n",
       "21271    108.351600\n",
       "34014     53.604049\n",
       "81355     26.708734\n",
       "65720    109.823087\n",
       "11627    135.448780\n",
       "Length: 25000, dtype: float64"
      ]
     },
     "metadata": {},
     "output_type": "display_data"
    },
    {
     "name": "stdout",
     "output_type": "stream",
     "text": [
      "---------------------------------------------\n",
      "Region-2\n",
      "---------------------------------------------\n",
      "True\n"
     ]
    },
    {
     "data": {
      "text/plain": [
       "75721    117.441301\n",
       "80184     47.841249\n",
       "19864     45.883483\n",
       "76699    139.014608\n",
       "92991     84.004276\n",
       "            ...    \n",
       "21271     40.797226\n",
       "34014     87.144239\n",
       "81355     52.039812\n",
       "65720    136.961454\n",
       "11627    109.173206\n",
       "Name: product, Length: 25000, dtype: float64"
      ]
     },
     "metadata": {},
     "output_type": "display_data"
    },
    {
     "name": "stdout",
     "output_type": "stream",
     "text": [
      "Predict\n"
     ]
    },
    {
     "data": {
      "text/plain": [
       "75721     98.301916\n",
       "80184    101.592461\n",
       "19864     52.449099\n",
       "76699    109.922127\n",
       "92991     72.411847\n",
       "            ...    \n",
       "21271    102.764169\n",
       "34014     93.431823\n",
       "81355     64.098390\n",
       "65720     83.764135\n",
       "11627     86.558644\n",
       "Length: 25000, dtype: float64"
      ]
     },
     "metadata": {},
     "output_type": "display_data"
    }
   ],
   "source": [
    "for i in range(3):\n",
    "    print('---------------------------------------------')\n",
    "    print(f'Region-{i}')\n",
    "    print('---------------------------------------------')\n",
    "    print('True')\n",
    "    display(y_valid[i])\n",
    "    print('Predict')\n",
    "    display(y_pred[i])"
   ]
  },
  {
   "cell_type": "markdown",
   "metadata": {},
   "source": [
    "Истиные и предсказанные значения таргета на валидационных выборках"
   ]
  },
  {
   "cell_type": "code",
   "execution_count": 9,
   "metadata": {},
   "outputs": [
    {
     "name": "stdout",
     "output_type": "stream",
     "text": [
      "---------------------------------------------\n",
      "Region-0\n",
      "---------------------------------------------\n",
      "Средний запас предсказанного сырья: 92.39879990657768\n",
      "RMSE: 37.75660035026169\n",
      "---------------------------------------------\n",
      "Region-1\n",
      "---------------------------------------------\n",
      "Средний запас предсказанного сырья: 68.7128780391376\n",
      "RMSE: 0.8902801001028842\n",
      "---------------------------------------------\n",
      "Region-2\n",
      "---------------------------------------------\n",
      "Средний запас предсказанного сырья: 94.77102387765939\n",
      "RMSE: 40.145872311342174\n"
     ]
    }
   ],
   "source": [
    "y_pred_mean = []\n",
    "RMSE = []\n",
    "for i in range(3):\n",
    "    print('---------------------------------------------')\n",
    "    print(f'Region-{i}')\n",
    "    print('---------------------------------------------')\n",
    "    y_pred_mean.append(y_pred[i].mean())\n",
    "    print('Средний запас предсказанного сырья:', y_pred_mean[i])\n",
    "    RMSE.append(sqrt(mean_squared_error(y_valid[i], y_pred[i])))\n",
    "    print('RMSE:', RMSE[i])"
   ]
  },
  {
   "cell_type": "markdown",
   "metadata": {},
   "source": [
    "Вывела средний запас предсказанного сырья и RMSE по каждому региону. Модели Регион-0 и Регион-2 показали очень похожие результаты по среднему запасу предсказанного сырья (92, 95) и по значениям ошибки (38, 40). Результаты модели по Региону-1 очень отличаются - средний запас значительно меньше (69), но ошибка меньше 1. По Региону-1 предсказанные значения очень близки к таргету."
   ]
  },
  {
   "cell_type": "code",
   "execution_count": 10,
   "metadata": {},
   "outputs": [
    {
     "data": {
      "image/png": "[encoded data removed]",
      "text/plain": [
       "<Figure size 1200x900 with 1 Axes>"
      ]
     },
     "metadata": {},
     "output_type": "display_data"
    }
   ],
   "source": [
    "plt.figure(figsize=(12, 9))\n",
    "sns.histplot((pd.DataFrame(y_valid) - pd.DataFrame(y_pred)), bins=50, alpha=0.5)\n",
    "plt.legend(['Region-0', 'Region-1', 'Region-2'])\n",
    "plt.title('Распределение ошибок по регионам')\n",
    "plt.xlabel('Значение ошибки')\n",
    "plt.ylabel('Число ошибок')\n",
    "plt.show()"
   ]
  },
  {
   "cell_type": "code",
   "execution_count": 11,
   "metadata": {
    "scrolled": false
   },
   "outputs": [
    {
     "data": {
      "image/png": "[encoded data removed]",
      "text/plain": [
       "<Figure size 1200x900 with 1 Axes>"
      ]
     },
     "metadata": {},
     "output_type": "display_data"
    }
   ],
   "source": [
    "plt.figure(figsize=(12, 9))\n",
    "sns.histplot((y_valid[1] - y_pred[1]), bins=50, alpha=0.5)\n",
    "plt.title('Распределение ошибок в регионе 1')\n",
    "plt.xlabel('Значение ошибки')\n",
    "plt.ylabel('Число ошибок')\n",
    "plt.show()"
   ]
  },
  {
   "cell_type": "code",
   "execution_count": 12,
   "metadata": {},
   "outputs": [
    {
     "data": {
      "image/png": "[encoded data removed]",
      "text/plain": [
       "<Figure size 1200x900 with 1 Axes>"
      ]
     },
     "metadata": {},
     "output_type": "display_data"
    }
   ],
   "source": [
    "plt.figure(figsize=(12, 9))\n",
    "sns.histplot((pd.DataFrame(y_valid).iloc[:,[0, 2]] - pd.DataFrame(y_pred).iloc[:,[0, 2]]), bins=50, alpha=0.5)\n",
    "plt.legend(['Region-0', 'Region-2'])\n",
    "plt.title('Распределение ошибок по регионам')\n",
    "plt.xlabel('Значение ошибки')\n",
    "plt.ylabel('Число ошибок')\n",
    "plt.show()"
   ]
  },
  {
   "cell_type": "markdown",
   "metadata": {},
   "source": [
    "По графикам видно, что ошибки моделей имеют распределения близкие к нормальному со средним в 0, для Региона-0 и Региона-2 распределения практически идентичны, у Региона-1 разброс ошибок значительно меньше."
   ]
  },
  {
   "cell_type": "markdown",
   "metadata": {},
   "source": [
    "Вывод:\n",
    "\n",
    "Для данных по каждому региону обучена модель LinearRegression(fit_intercept=True, n_jobs=-1) на обучающей выбоке и получены предсказания для валидационной выборки, предсказания сохранены в y_pred.\n",
    "\n",
    "По предсказаниям и истинным значениям по каждому региону вычислены средний запас предсказанного сырья и оценка RMSE, сохранены в переменные.\n",
    "\n",
    "Модели Регионов 0 и 2 показали схожие средние запасы предсказанного сырья, RMSE и распределения ошибок, Регион-1 показывает более низкие показатель среднего запаса сырья, значительно более низкий RMSE и меньший разброс ошибок.\n",
    "\n"
   ]
  },
  {
   "cell_type": "markdown",
   "metadata": {},
   "source": [
    "## Подготовка к расчёту прибыли"
   ]
  },
  {
   "cell_type": "code",
   "execution_count": 13,
   "metadata": {},
   "outputs": [
    {
     "data": {
      "text/plain": [
       "111.11111111111111"
      ]
     },
     "execution_count": 13,
     "metadata": {},
     "output_type": "execute_result"
    }
   ],
   "source": [
    "min_profitable_product = 10000000 / 200 / 450\n",
    "min_profitable_product"
   ]
  },
  {
   "cell_type": "markdown",
   "metadata": {},
   "source": [
    "10000000 тыс. рублей (бюджет на разработку скважин в регионе) делю на 200 (количество точек, по которым будет проводиться разработка) делю на 450 тыс. рублей (доход с тысячи баррелей). Получается, достаточный объём сырья для безубыточной разработки новой скважины примерно 111 тыс. баррелей."
   ]
  },
  {
   "cell_type": "code",
   "execution_count": 14,
   "metadata": {},
   "outputs": [
    {
     "name": "stdout",
     "output_type": "stream",
     "text": [
      "---------------------------------------------\n",
      "Region-0\n",
      "---------------------------------------------\n",
      "Средний запас сырья: 92.32595637084387\n",
      "---------------------------------------------\n",
      "Region-1\n",
      "---------------------------------------------\n",
      "Средний запас сырья: 68.72538074722745\n",
      "---------------------------------------------\n",
      "Region-2\n",
      "---------------------------------------------\n",
      "Средний запас сырья: 95.15099907171961\n"
     ]
    }
   ],
   "source": [
    "y_valid_mean = []\n",
    "for i in range(3):\n",
    "    print('---------------------------------------------')\n",
    "    print(f'Region-{i}')\n",
    "    print('---------------------------------------------')\n",
    "    y_valid_mean.append(y_valid[i].mean())\n",
    "    print('Средний запас сырья:', y_valid_mean[i])"
   ]
  },
  {
   "cell_type": "markdown",
   "metadata": {},
   "source": [
    "Для каждого региона средний запас серья по точкам не превышает порог минимального безубыточного запаса для разработки."
   ]
  },
  {
   "cell_type": "markdown",
   "metadata": {},
   "source": [
    "Вывод:\n",
    "\n",
    "Чтобы не быть убыточной, точка должна давать более 111 тыс. баррелей."
   ]
  },
  {
   "cell_type": "code",
   "execution_count": 15,
   "metadata": {},
   "outputs": [],
   "source": [
    "def get_sum_profit(y_true, y_pred, n, profit_per_barrel, expenses_per_point):\n",
    "    return sum(y_true[y_pred.sort_values(ascending=False)[:n].index] * profit_per_barrel - expenses_per_point)"
   ]
  },
  {
   "cell_type": "markdown",
   "metadata": {},
   "source": [
    "y_true - вектор истинных значений количества нефти в тыс. баррелей,\n",
    "\n",
    "y_pred -  вектор предсказанных значений количества нефти в тыс. баррелей, \n",
    "\n",
    "n - количество точек для разработки (200), \n",
    "\n",
    "profit_per_barrel - доход с одной тысячи баррель (450 тыс. рублей), \n",
    "\n",
    "expenses_per_point - расходы на разработку одной точки (10 000 000 / 200 = 50 000 тыс. рублей)\n",
    "\n",
    "функция get_sum_profit возвращает суммарную прибыль n лучших по предсказанию модели точек в тыс. рублей"
   ]
  },
  {
   "cell_type": "markdown",
   "metadata": {},
   "source": [
    "## Расчёт прибыли и рисков "
   ]
  },
  {
   "cell_type": "code",
   "execution_count": 16,
   "metadata": {},
   "outputs": [],
   "source": [
    "state = np.random.RandomState(42)\n",
    "sum_profit = {}\n",
    "percent_of_unprofits = {}\n",
    "for i in range(3):\n",
    "    sum_profit[i] = []\n",
    "    count_of_unprofits = 0\n",
    "    for j in range(1000):\n",
    "        y_valid_sub = y_valid[i].sample(frac=0.02, replace=False, random_state=state)\n",
    "        sum_profit[i].append(get_sum_profit(y_valid_sub, y_pred[i][y_valid_sub.index], 200, 450, 50000))\n",
    "        count_of_unprofits += (sum_profit[i][j] < 0)\n",
    "    percent_of_unprofits[i] = round(count_of_unprofits / 1000 * 100, 1)"
   ]
  },
  {
   "cell_type": "markdown",
   "metadata": {},
   "source": [
    "Для данных каждого региона применена техника Bootstrap - случайно выбрано 1000 выборок без повторений по 500 точек, из которых отобраных 200 лучших по оценке модели, для них посчитан суммарный профит и процент случаев, когда суммарный профит был отрицателен. Для каждого региона сохранены список сумарных профитов и процент случаев отрицательной прибыли."
   ]
  },
  {
   "cell_type": "code",
   "execution_count": 17,
   "metadata": {},
   "outputs": [
    {
     "data": {
      "image/png": "[encoded data removed]",
      "text/plain": [
       "<Figure size 1200x900 with 1 Axes>"
      ]
     },
     "metadata": {},
     "output_type": "display_data"
    }
   ],
   "source": [
    "plt.figure(figsize=(12, 9))\n",
    "sns.histplot(pd.DataFrame(sum_profit), bins=50, alpha=0.5)\n",
    "plt.legend(['Region-0', 'Region-1', 'Region-2'])\n",
    "plt.title('Распределение суммарной прибыли по регионам (Bootstrap)')\n",
    "plt.xlabel('Количество')\n",
    "plt.xlabel('Суммарная прибыль (тыс. рублей)')\n",
    "plt.show()"
   ]
  },
  {
   "cell_type": "markdown",
   "metadata": {},
   "source": [
    "По графику распределения суммарной прибыли видно, что для Региона-1 более редки случаи отрицательной прибыли, чем для Региона-0 и Региона-2. А также распределение по Региону-1 имеет меньший размах значений."
   ]
  },
  {
   "cell_type": "code",
   "execution_count": 18,
   "metadata": {
    "scrolled": true
   },
   "outputs": [
    {
     "name": "stdout",
     "output_type": "stream",
     "text": [
      "Процент случаев отрицательной прибыли для Регион-0, Регион-1, Регион-2 соответственно 7.4 1.7 8.6 процентов\n"
     ]
    }
   ],
   "source": [
    "print('Процент случаев отрицательной прибыли для Регион-0, Регион-1, Регион-2 соответственно', *percent_of_unprofits.values(), 'процентов')"
   ]
  },
  {
   "cell_type": "markdown",
   "metadata": {},
   "source": [
    "Вероятность убытков ниже 2,5% показывает только Регион-1"
   ]
  },
  {
   "cell_type": "code",
   "execution_count": 19,
   "metadata": {},
   "outputs": [],
   "source": [
    "sum_profit_df = pd.DataFrame(sum_profit)\n",
    "sum_profit_df.columns = ['Region-0', 'Region-1', 'Region-2']"
   ]
  },
  {
   "cell_type": "code",
   "execution_count": 20,
   "metadata": {},
   "outputs": [
    {
     "data": {
      "text/plain": [
       "Region-0    408515.053884\n",
       "Region-1    436119.513637\n",
       "Region-2    385037.868036\n",
       "dtype: float64"
      ]
     },
     "execution_count": 20,
     "metadata": {},
     "output_type": "execute_result"
    }
   ],
   "source": [
    "sum_profit_df.mean()"
   ]
  },
  {
   "cell_type": "markdown",
   "metadata": {},
   "source": [
    "Самую большую среднюю суммарную прибыль показывает Регион-1 (436120 тыс. рублей)"
   ]
  },
  {
   "cell_type": "code",
   "execution_count": 21,
   "metadata": {},
   "outputs": [
    {
     "name": "stdout",
     "output_type": "stream",
     "text": [
      "95% доверительные интервалы \n",
      "Region-0: -138678 952415\n",
      "Region-1: 28879 865832\n",
      "Region-2: -185863 885439\n"
     ]
    }
   ],
   "source": [
    "print('95% доверительные интервалы ')\n",
    "for i in range(3):\n",
    "    print(f'Region-{i}: ', end='')\n",
    "    print(round(pd.Series(sum_profit[i]).quantile(0.025)), round(pd.Series(sum_profit[i]).quantile(0.975)))"
   ]
  },
  {
   "cell_type": "markdown",
   "metadata": {},
   "source": [
    "Нижние границы 95% доверительных интервалов для регионов 0 и 2 имеют довольно большие отрицательные значения, тогда как у Региона-1 нижняя граница положительная, то есть при выборе Региона-1 с 95% вероятностью будет получена прибыль 28879 тыс. рублей и более. При этом верхняя граница для Региона-1 не сильно меньше, чем для других регионов."
   ]
  },
  {
   "cell_type": "markdown",
   "metadata": {},
   "source": [
    "Вывод:\n",
    "\n",
    "Для разработки я предлагаю Регион-1, так как он имеет самую низкую вероятность убытков (1.7%), самую высокую среднюю сумарную прибыль (436120 тыс. рублей), его 95% доверительный интервал полностью лежит в положительной области прибыли (28879, 865832). "
   ]
  }
 ],
 "metadata": {
  "ExecuteTimeLog": [
   {
    "duration": 391,
    "start_time": "2022-12-14T08:52:15.728Z"
   },
   {
    "duration": 562,
    "start_time": "2022-12-14T08:54:39.150Z"
   },
   {
    "duration": 22,
    "start_time": "2022-12-14T08:54:46.557Z"
   },
   {
    "duration": 49,
    "start_time": "2022-12-14T08:55:18.631Z"
   },
   {
    "duration": 549,
    "start_time": "2022-12-14T09:02:11.204Z"
   },
   {
    "duration": 555,
    "start_time": "2022-12-14T09:02:27.951Z"
   },
   {
    "duration": 13,
    "start_time": "2022-12-14T09:02:58.569Z"
   },
   {
    "duration": 13,
    "start_time": "2022-12-14T09:03:06.798Z"
   },
   {
    "duration": 12,
    "start_time": "2022-12-14T09:03:16.479Z"
   },
   {
    "duration": 12,
    "start_time": "2022-12-14T09:03:23.856Z"
   },
   {
    "duration": 12,
    "start_time": "2022-12-14T09:05:14.224Z"
   },
   {
    "duration": 14,
    "start_time": "2022-12-14T09:05:26.551Z"
   },
   {
    "duration": 13,
    "start_time": "2022-12-14T09:05:30.736Z"
   },
   {
    "duration": 1753,
    "start_time": "2022-12-14T10:29:10.580Z"
   },
   {
    "duration": 13,
    "start_time": "2022-12-14T10:29:23.052Z"
   },
   {
    "duration": 410,
    "start_time": "2022-12-14T10:29:49.787Z"
   },
   {
    "duration": 361,
    "start_time": "2022-12-14T10:30:12.411Z"
   },
   {
    "duration": 361,
    "start_time": "2022-12-14T10:30:56.572Z"
   },
   {
    "duration": 11,
    "start_time": "2022-12-14T10:30:58.468Z"
   },
   {
    "duration": 22,
    "start_time": "2022-12-14T10:31:33.349Z"
   },
   {
    "duration": 7,
    "start_time": "2022-12-14T10:31:58.531Z"
   },
   {
    "duration": 14,
    "start_time": "2022-12-14T10:32:12.113Z"
   },
   {
    "duration": 2,
    "start_time": "2022-12-14T10:35:22.204Z"
   },
   {
    "duration": 28,
    "start_time": "2022-12-14T10:35:33.828Z"
   },
   {
    "duration": 692,
    "start_time": "2022-12-14T10:39:38.741Z"
   },
   {
    "duration": 501,
    "start_time": "2022-12-14T10:40:40.414Z"
   },
   {
    "duration": 945,
    "start_time": "2022-12-14T10:41:01.789Z"
   },
   {
    "duration": 114,
    "start_time": "2022-12-14T10:50:33.287Z"
   },
   {
    "duration": 117,
    "start_time": "2022-12-14T10:51:21.824Z"
   },
   {
    "duration": 126,
    "start_time": "2022-12-14T10:51:50.395Z"
   },
   {
    "duration": 123,
    "start_time": "2022-12-14T10:52:23.874Z"
   },
   {
    "duration": 124,
    "start_time": "2022-12-14T10:52:43.922Z"
   },
   {
    "duration": 136,
    "start_time": "2022-12-14T10:53:45.712Z"
   },
   {
    "duration": 122,
    "start_time": "2022-12-14T10:55:03.146Z"
   },
   {
    "duration": 7,
    "start_time": "2022-12-14T11:04:09.643Z"
   },
   {
    "duration": 14,
    "start_time": "2022-12-14T11:04:24.155Z"
   },
   {
    "duration": 9,
    "start_time": "2022-12-14T11:04:31.324Z"
   },
   {
    "duration": 8,
    "start_time": "2022-12-14T11:04:53.732Z"
   },
   {
    "duration": 6,
    "start_time": "2022-12-14T11:04:58.291Z"
   },
   {
    "duration": 25,
    "start_time": "2022-12-14T11:06:23.973Z"
   },
   {
    "duration": 2,
    "start_time": "2022-12-14T11:18:43.504Z"
   },
   {
    "duration": 380,
    "start_time": "2022-12-14T11:19:17.784Z"
   },
   {
    "duration": 147,
    "start_time": "2022-12-14T11:19:20.409Z"
   },
   {
    "duration": 120,
    "start_time": "2022-12-14T11:19:53.230Z"
   },
   {
    "duration": 3,
    "start_time": "2022-12-14T11:21:46.397Z"
   },
   {
    "duration": 66,
    "start_time": "2022-12-14T11:24:42.595Z"
   },
   {
    "duration": 31,
    "start_time": "2022-12-14T11:25:31.113Z"
   },
   {
    "duration": 37,
    "start_time": "2022-12-14T11:25:57.891Z"
   },
   {
    "duration": 28,
    "start_time": "2022-12-14T11:26:20.152Z"
   },
   {
    "duration": 161,
    "start_time": "2022-12-14T11:27:25.153Z"
   },
   {
    "duration": 150,
    "start_time": "2022-12-14T11:27:40.332Z"
   },
   {
    "duration": 161,
    "start_time": "2022-12-14T11:28:02.687Z"
   },
   {
    "duration": 117,
    "start_time": "2022-12-14T11:28:26.043Z"
   },
   {
    "duration": 32,
    "start_time": "2022-12-14T11:28:34.642Z"
   },
   {
    "duration": 36,
    "start_time": "2022-12-14T11:28:40.353Z"
   },
   {
    "duration": 93,
    "start_time": "2022-12-14T11:33:38.193Z"
   },
   {
    "duration": 86,
    "start_time": "2022-12-14T11:34:10.840Z"
   },
   {
    "duration": 3,
    "start_time": "2022-12-14T11:39:08.545Z"
   },
   {
    "duration": 3,
    "start_time": "2022-12-14T11:43:58.604Z"
   },
   {
    "duration": 18,
    "start_time": "2022-12-14T11:44:53.292Z"
   },
   {
    "duration": 3,
    "start_time": "2022-12-14T11:45:58.220Z"
   },
   {
    "duration": 15,
    "start_time": "2022-12-14T11:46:00.348Z"
   },
   {
    "duration": 10,
    "start_time": "2022-12-14T11:46:08.476Z"
   },
   {
    "duration": 4,
    "start_time": "2022-12-14T11:49:28.548Z"
   },
   {
    "duration": 11,
    "start_time": "2022-12-14T11:49:31.452Z"
   },
   {
    "duration": 12,
    "start_time": "2022-12-14T11:49:33.820Z"
   },
   {
    "duration": 3,
    "start_time": "2022-12-14T11:54:03.094Z"
   },
   {
    "duration": 11,
    "start_time": "2022-12-14T11:54:08.662Z"
   },
   {
    "duration": 70,
    "start_time": "2022-12-14T12:00:44.809Z"
   },
   {
    "duration": 68,
    "start_time": "2022-12-14T12:01:47.505Z"
   },
   {
    "duration": 202,
    "start_time": "2022-12-14T12:02:29.352Z"
   },
   {
    "duration": 360,
    "start_time": "2022-12-14T12:03:54.981Z"
   },
   {
    "duration": 134,
    "start_time": "2022-12-14T12:03:57.288Z"
   },
   {
    "duration": 86,
    "start_time": "2022-12-14T12:04:06.266Z"
   },
   {
    "duration": 131,
    "start_time": "2022-12-14T12:05:06.490Z"
   },
   {
    "duration": 4,
    "start_time": "2022-12-14T12:05:45.123Z"
   },
   {
    "duration": 198,
    "start_time": "2022-12-14T12:06:20.563Z"
   },
   {
    "duration": 3,
    "start_time": "2022-12-14T12:41:43.880Z"
   },
   {
    "duration": 4,
    "start_time": "2022-12-14T12:47:16.237Z"
   },
   {
    "duration": 42,
    "start_time": "2022-12-14T12:48:31.475Z"
   },
   {
    "duration": 15,
    "start_time": "2022-12-14T13:51:49.258Z"
   },
   {
    "duration": 52,
    "start_time": "2022-12-14T13:52:56.565Z"
   },
   {
    "duration": 17,
    "start_time": "2022-12-14T13:53:12.530Z"
   },
   {
    "duration": 22,
    "start_time": "2022-12-14T13:55:28.755Z"
   },
   {
    "duration": 3,
    "start_time": "2022-12-14T13:56:08.884Z"
   },
   {
    "duration": 372,
    "start_time": "2022-12-14T13:56:08.889Z"
   },
   {
    "duration": 178,
    "start_time": "2022-12-14T13:56:09.263Z"
   },
   {
    "duration": 115,
    "start_time": "2022-12-14T13:56:09.444Z"
   },
   {
    "duration": 4,
    "start_time": "2022-12-14T13:56:09.561Z"
   },
   {
    "duration": 256,
    "start_time": "2022-12-14T13:56:09.566Z"
   },
   {
    "duration": 21,
    "start_time": "2022-12-14T13:57:22.455Z"
   },
   {
    "duration": 50,
    "start_time": "2022-12-14T13:57:30.067Z"
   },
   {
    "duration": 1133,
    "start_time": "2022-12-14T13:57:35.858Z"
   },
   {
    "duration": 20,
    "start_time": "2022-12-14T13:57:59.555Z"
   },
   {
    "duration": 23,
    "start_time": "2022-12-14T13:58:49.570Z"
   },
   {
    "duration": 9,
    "start_time": "2022-12-14T14:02:23.227Z"
   },
   {
    "duration": 1090,
    "start_time": "2022-12-15T09:58:17.520Z"
   },
   {
    "duration": 681,
    "start_time": "2022-12-15T09:58:18.612Z"
   },
   {
    "duration": 153,
    "start_time": "2022-12-15T09:58:19.295Z"
   },
   {
    "duration": 104,
    "start_time": "2022-12-15T09:58:19.450Z"
   },
   {
    "duration": 3,
    "start_time": "2022-12-15T09:58:19.557Z"
   },
   {
    "duration": 252,
    "start_time": "2022-12-15T09:58:19.562Z"
   },
   {
    "duration": 183,
    "start_time": "2022-12-15T09:58:19.815Z"
   },
   {
    "duration": 122,
    "start_time": "2022-12-15T09:58:20.000Z"
   },
   {
    "duration": 8,
    "start_time": "2022-12-15T09:58:20.124Z"
   },
   {
    "duration": 56,
    "start_time": "2022-12-15T10:02:30.448Z"
   },
   {
    "duration": 9,
    "start_time": "2022-12-15T10:04:39.823Z"
   },
   {
    "duration": 8,
    "start_time": "2022-12-15T10:16:01.793Z"
   },
   {
    "duration": 483,
    "start_time": "2022-12-15T10:16:08.761Z"
   },
   {
    "duration": 140,
    "start_time": "2022-12-15T10:16:27.059Z"
   },
   {
    "duration": 95,
    "start_time": "2022-12-15T10:16:53.691Z"
   },
   {
    "duration": 130,
    "start_time": "2022-12-15T10:17:07.067Z"
   },
   {
    "duration": 131,
    "start_time": "2022-12-15T10:17:18.035Z"
   },
   {
    "duration": 156,
    "start_time": "2022-12-15T10:27:15.414Z"
   },
   {
    "duration": 9,
    "start_time": "2022-12-15T10:28:12.438Z"
   },
   {
    "duration": 14,
    "start_time": "2022-12-15T10:28:35.942Z"
   },
   {
    "duration": 263,
    "start_time": "2022-12-15T10:28:49.047Z"
   },
   {
    "duration": 177,
    "start_time": "2022-12-15T10:29:07.773Z"
   },
   {
    "duration": 711,
    "start_time": "2022-12-15T10:29:24.374Z"
   },
   {
    "duration": 341,
    "start_time": "2022-12-15T10:29:38.487Z"
   },
   {
    "duration": 337,
    "start_time": "2022-12-15T10:29:48.678Z"
   },
   {
    "duration": 223,
    "start_time": "2022-12-15T10:30:13.213Z"
   },
   {
    "duration": 194,
    "start_time": "2022-12-15T10:36:57.616Z"
   },
   {
    "duration": 368,
    "start_time": "2022-12-15T10:37:57.215Z"
   },
   {
    "duration": 150,
    "start_time": "2022-12-15T10:38:12.361Z"
   },
   {
    "duration": 221,
    "start_time": "2022-12-15T10:38:33.368Z"
   },
   {
    "duration": 210,
    "start_time": "2022-12-15T10:38:53.584Z"
   },
   {
    "duration": 212,
    "start_time": "2022-12-15T10:39:35.848Z"
   },
   {
    "duration": 3,
    "start_time": "2022-12-15T10:41:37.168Z"
   },
   {
    "duration": 213,
    "start_time": "2022-12-15T10:42:07.105Z"
   },
   {
    "duration": 302,
    "start_time": "2022-12-15T10:42:14.665Z"
   },
   {
    "duration": 387,
    "start_time": "2022-12-15T10:44:11.690Z"
   },
   {
    "duration": 531,
    "start_time": "2022-12-15T10:44:27.938Z"
   },
   {
    "duration": 258,
    "start_time": "2022-12-15T10:44:38.417Z"
   },
   {
    "duration": 249,
    "start_time": "2022-12-15T10:45:11.433Z"
   },
   {
    "duration": 60,
    "start_time": "2022-12-15T10:46:42.123Z"
   },
   {
    "duration": 1150,
    "start_time": "2022-12-15T10:47:06.972Z"
   },
   {
    "duration": 1270,
    "start_time": "2022-12-15T10:47:19.642Z"
   },
   {
    "duration": 1022,
    "start_time": "2022-12-15T10:47:25.722Z"
   },
   {
    "duration": 286,
    "start_time": "2022-12-15T10:47:43.826Z"
   },
   {
    "duration": 291,
    "start_time": "2022-12-15T10:50:02.923Z"
   },
   {
    "duration": 306,
    "start_time": "2022-12-15T10:50:38.955Z"
   },
   {
    "duration": 378,
    "start_time": "2022-12-15T10:50:46.019Z"
   },
   {
    "duration": 391,
    "start_time": "2022-12-15T10:50:53.075Z"
   },
   {
    "duration": 341,
    "start_time": "2022-12-15T10:51:02.978Z"
   },
   {
    "duration": 21,
    "start_time": "2022-12-15T10:53:26.598Z"
   },
   {
    "duration": 317,
    "start_time": "2022-12-15T10:54:25.054Z"
   },
   {
    "duration": 375,
    "start_time": "2022-12-15T10:54:41.555Z"
   },
   {
    "duration": 500,
    "start_time": "2022-12-15T10:56:14.981Z"
   },
   {
    "duration": 806,
    "start_time": "2022-12-15T10:56:48.045Z"
   },
   {
    "duration": 432,
    "start_time": "2022-12-15T10:57:29.556Z"
   },
   {
    "duration": 411,
    "start_time": "2022-12-15T10:57:40.213Z"
   },
   {
    "duration": 225,
    "start_time": "2022-12-15T10:59:48.636Z"
   },
   {
    "duration": 341,
    "start_time": "2022-12-15T11:01:58.598Z"
   },
   {
    "duration": 321,
    "start_time": "2022-12-15T11:02:14.007Z"
   },
   {
    "duration": 398,
    "start_time": "2022-12-15T11:02:24.629Z"
   },
   {
    "duration": 216,
    "start_time": "2022-12-15T11:02:43.222Z"
   },
   {
    "duration": 449,
    "start_time": "2022-12-15T11:02:49.662Z"
   },
   {
    "duration": 4,
    "start_time": "2022-12-15T11:35:59.743Z"
   },
   {
    "duration": 4,
    "start_time": "2022-12-15T11:36:51.085Z"
   },
   {
    "duration": 5,
    "start_time": "2022-12-15T11:42:03.902Z"
   },
   {
    "duration": 4,
    "start_time": "2022-12-15T11:42:12.014Z"
   },
   {
    "duration": 5,
    "start_time": "2022-12-15T11:42:15.502Z"
   },
   {
    "duration": 6,
    "start_time": "2022-12-15T11:54:46.608Z"
   },
   {
    "duration": 7,
    "start_time": "2022-12-15T12:44:00.320Z"
   },
   {
    "duration": 11,
    "start_time": "2022-12-15T12:44:31.830Z"
   },
   {
    "duration": 6,
    "start_time": "2022-12-15T12:45:27.237Z"
   },
   {
    "duration": 4,
    "start_time": "2022-12-15T12:45:32.885Z"
   },
   {
    "duration": 9,
    "start_time": "2022-12-15T12:47:54.646Z"
   },
   {
    "duration": 10,
    "start_time": "2022-12-15T12:48:02.790Z"
   },
   {
    "duration": 7,
    "start_time": "2022-12-15T12:48:09.262Z"
   },
   {
    "duration": 12,
    "start_time": "2022-12-15T12:48:35.246Z"
   },
   {
    "duration": 7,
    "start_time": "2022-12-15T12:48:45.743Z"
   },
   {
    "duration": 9,
    "start_time": "2022-12-15T12:49:44.111Z"
   },
   {
    "duration": 4,
    "start_time": "2022-12-15T13:00:19.011Z"
   },
   {
    "duration": 8,
    "start_time": "2022-12-15T13:01:58.344Z"
   },
   {
    "duration": 17,
    "start_time": "2022-12-15T13:04:12.593Z"
   },
   {
    "duration": 17,
    "start_time": "2022-12-15T13:04:32.794Z"
   },
   {
    "duration": 14,
    "start_time": "2022-12-15T13:04:50.344Z"
   },
   {
    "duration": 14,
    "start_time": "2022-12-15T13:05:19.162Z"
   },
   {
    "duration": 15,
    "start_time": "2022-12-15T13:05:35.666Z"
   },
   {
    "duration": 15,
    "start_time": "2022-12-15T13:07:38.507Z"
   },
   {
    "duration": 14,
    "start_time": "2022-12-15T13:11:18.483Z"
   },
   {
    "duration": 3,
    "start_time": "2022-12-15T13:30:16.519Z"
   },
   {
    "duration": 5,
    "start_time": "2022-12-15T13:31:49.647Z"
   },
   {
    "duration": 14,
    "start_time": "2022-12-15T13:49:39.851Z"
   },
   {
    "duration": 4394,
    "start_time": "2022-12-15T13:50:38.564Z"
   },
   {
    "duration": 9,
    "start_time": "2022-12-15T13:51:32.364Z"
   },
   {
    "duration": 115,
    "start_time": "2022-12-15T13:51:50.557Z"
   },
   {
    "duration": 4,
    "start_time": "2022-12-15T13:52:19.540Z"
   },
   {
    "duration": 236,
    "start_time": "2022-12-15T15:47:57.156Z"
   },
   {
    "duration": 169,
    "start_time": "2022-12-15T15:48:49.198Z"
   },
   {
    "duration": 168,
    "start_time": "2022-12-15T15:49:50.148Z"
   },
   {
    "duration": 615,
    "start_time": "2022-12-15T15:50:14.413Z"
   },
   {
    "duration": 171,
    "start_time": "2022-12-15T15:52:55.598Z"
   },
   {
    "duration": 169,
    "start_time": "2022-12-15T15:53:30.630Z"
   },
   {
    "duration": 122,
    "start_time": "2022-12-15T15:54:17.349Z"
   },
   {
    "duration": 169,
    "start_time": "2022-12-15T15:54:28.702Z"
   },
   {
    "duration": 818,
    "start_time": "2022-12-15T15:55:34.694Z"
   },
   {
    "duration": 771,
    "start_time": "2022-12-15T15:56:10.376Z"
   },
   {
    "duration": 11,
    "start_time": "2022-12-15T15:57:54.106Z"
   },
   {
    "duration": 233,
    "start_time": "2022-12-15T15:58:10.233Z"
   },
   {
    "duration": 331,
    "start_time": "2022-12-15T15:58:31.190Z"
   },
   {
    "duration": 344,
    "start_time": "2022-12-15T15:59:11.887Z"
   },
   {
    "duration": 795,
    "start_time": "2022-12-15T15:59:33.270Z"
   },
   {
    "duration": 401,
    "start_time": "2022-12-15T15:59:40.669Z"
   },
   {
    "duration": 247,
    "start_time": "2022-12-15T15:59:51.800Z"
   },
   {
    "duration": 355,
    "start_time": "2022-12-15T16:00:03.918Z"
   },
   {
    "duration": 414,
    "start_time": "2022-12-15T16:00:13.423Z"
   },
   {
    "duration": 215,
    "start_time": "2022-12-15T16:00:18.388Z"
   },
   {
    "duration": 325,
    "start_time": "2022-12-15T16:00:22.534Z"
   },
   {
    "duration": 402,
    "start_time": "2022-12-15T16:00:48.208Z"
   },
   {
    "duration": 378,
    "start_time": "2022-12-15T16:01:10.807Z"
   },
   {
    "duration": 195,
    "start_time": "2022-12-15T16:04:29.040Z"
   },
   {
    "duration": 182,
    "start_time": "2022-12-15T16:04:36.078Z"
   },
   {
    "duration": 177,
    "start_time": "2022-12-15T16:06:39.351Z"
   },
   {
    "duration": 213,
    "start_time": "2022-12-15T16:07:00.399Z"
   },
   {
    "duration": 173,
    "start_time": "2022-12-15T16:07:12.888Z"
   },
   {
    "duration": 67,
    "start_time": "2022-12-15T16:07:40.391Z"
   },
   {
    "duration": 191,
    "start_time": "2022-12-15T16:07:51.175Z"
   },
   {
    "duration": 208,
    "start_time": "2022-12-15T16:08:16.296Z"
   },
   {
    "duration": 126,
    "start_time": "2022-12-15T16:08:48.024Z"
   },
   {
    "duration": 180,
    "start_time": "2022-12-15T16:08:51.728Z"
   },
   {
    "duration": 188,
    "start_time": "2022-12-15T16:09:22.745Z"
   },
   {
    "duration": 189,
    "start_time": "2022-12-15T16:09:40.360Z"
   },
   {
    "duration": 161,
    "start_time": "2022-12-15T16:09:57.754Z"
   },
   {
    "duration": 213,
    "start_time": "2022-12-15T16:10:07.344Z"
   },
   {
    "duration": 787,
    "start_time": "2022-12-15T16:10:17.416Z"
   },
   {
    "duration": 214,
    "start_time": "2022-12-15T16:10:22.792Z"
   },
   {
    "duration": 357,
    "start_time": "2022-12-15T16:10:29.401Z"
   },
   {
    "duration": 384,
    "start_time": "2022-12-15T16:10:39.118Z"
   },
   {
    "duration": 413,
    "start_time": "2022-12-15T16:14:40.137Z"
   },
   {
    "duration": 425,
    "start_time": "2022-12-15T16:15:09.674Z"
   },
   {
    "duration": 399,
    "start_time": "2022-12-15T16:16:55.154Z"
   },
   {
    "duration": 430,
    "start_time": "2022-12-15T16:17:18.986Z"
   },
   {
    "duration": 56,
    "start_time": "2022-12-15T16:17:50.395Z"
   },
   {
    "duration": 9,
    "start_time": "2022-12-15T16:18:03.706Z"
   },
   {
    "duration": 4,
    "start_time": "2022-12-15T16:18:09.969Z"
   },
   {
    "duration": 4,
    "start_time": "2022-12-15T16:34:55.511Z"
   },
   {
    "duration": 3,
    "start_time": "2022-12-15T16:34:59.375Z"
   },
   {
    "duration": 4,
    "start_time": "2022-12-15T16:35:26.455Z"
   },
   {
    "duration": 3,
    "start_time": "2022-12-15T16:36:23.669Z"
   },
   {
    "duration": 3,
    "start_time": "2022-12-15T16:37:36.168Z"
   },
   {
    "duration": 4,
    "start_time": "2022-12-15T16:37:45.414Z"
   },
   {
    "duration": 4,
    "start_time": "2022-12-15T16:38:05.600Z"
   },
   {
    "duration": 4,
    "start_time": "2022-12-15T16:38:12.135Z"
   },
   {
    "duration": 3,
    "start_time": "2022-12-15T16:38:41.344Z"
   },
   {
    "duration": 4,
    "start_time": "2022-12-15T16:38:47.655Z"
   },
   {
    "duration": 4634,
    "start_time": "2022-12-15T16:40:17.367Z"
   },
   {
    "duration": 408,
    "start_time": "2022-12-15T16:40:23.870Z"
   },
   {
    "duration": 4,
    "start_time": "2022-12-15T16:40:31.999Z"
   },
   {
    "duration": 3,
    "start_time": "2022-12-15T16:40:53.208Z"
   },
   {
    "duration": 50,
    "start_time": "2022-12-15T16:41:24.487Z"
   },
   {
    "duration": 9,
    "start_time": "2022-12-15T16:41:36.863Z"
   },
   {
    "duration": 3,
    "start_time": "2022-12-15T16:41:50.715Z"
   },
   {
    "duration": 276,
    "start_time": "2022-12-15T16:42:00.783Z"
   },
   {
    "duration": 3,
    "start_time": "2022-12-15T16:42:10.519Z"
   },
   {
    "duration": 8,
    "start_time": "2022-12-15T16:42:24.087Z"
   },
   {
    "duration": 9,
    "start_time": "2022-12-15T16:42:36.632Z"
   },
   {
    "duration": 3,
    "start_time": "2022-12-15T16:42:47.583Z"
   },
   {
    "duration": 3,
    "start_time": "2022-12-15T16:43:05.559Z"
   },
   {
    "duration": 3,
    "start_time": "2022-12-15T16:43:23.081Z"
   },
   {
    "duration": 9,
    "start_time": "2022-12-15T16:43:41.696Z"
   },
   {
    "duration": 9,
    "start_time": "2022-12-15T16:43:56.383Z"
   },
   {
    "duration": 4,
    "start_time": "2022-12-15T16:44:03.095Z"
   },
   {
    "duration": 9,
    "start_time": "2022-12-15T16:44:20.321Z"
   },
   {
    "duration": 4,
    "start_time": "2022-12-15T16:44:36.720Z"
   },
   {
    "duration": 3,
    "start_time": "2022-12-15T16:46:35.838Z"
   },
   {
    "duration": 7,
    "start_time": "2022-12-15T16:47:49.217Z"
   },
   {
    "duration": 8,
    "start_time": "2022-12-15T16:48:37.400Z"
   },
   {
    "duration": 9,
    "start_time": "2022-12-15T16:48:43.409Z"
   },
   {
    "duration": 9,
    "start_time": "2022-12-15T16:50:31.482Z"
   },
   {
    "duration": 3,
    "start_time": "2022-12-15T16:50:43.385Z"
   },
   {
    "duration": 6,
    "start_time": "2022-12-15T16:51:08.322Z"
   },
   {
    "duration": 3,
    "start_time": "2022-12-15T16:56:44.289Z"
   },
   {
    "duration": 366,
    "start_time": "2022-12-15T16:56:44.294Z"
   },
   {
    "duration": 142,
    "start_time": "2022-12-15T16:56:44.661Z"
   },
   {
    "duration": 120,
    "start_time": "2022-12-15T16:56:44.805Z"
   },
   {
    "duration": 3,
    "start_time": "2022-12-15T16:56:44.928Z"
   },
   {
    "duration": 233,
    "start_time": "2022-12-15T16:56:44.934Z"
   },
   {
    "duration": 238,
    "start_time": "2022-12-15T16:56:45.168Z"
   },
   {
    "duration": 113,
    "start_time": "2022-12-15T16:56:45.499Z"
   },
   {
    "duration": 12,
    "start_time": "2022-12-15T16:56:45.614Z"
   },
   {
    "duration": 427,
    "start_time": "2022-12-15T16:56:45.628Z"
   },
   {
    "duration": 216,
    "start_time": "2022-12-15T16:56:46.057Z"
   },
   {
    "duration": 333,
    "start_time": "2022-12-15T16:56:46.274Z"
   },
   {
    "duration": 3,
    "start_time": "2022-12-15T16:56:46.608Z"
   },
   {
    "duration": 8,
    "start_time": "2022-12-15T16:56:46.613Z"
   },
   {
    "duration": 5,
    "start_time": "2022-12-15T16:56:46.622Z"
   },
   {
    "duration": 4623,
    "start_time": "2022-12-15T16:56:46.628Z"
   },
   {
    "duration": 946,
    "start_time": "2022-12-15T16:56:51.253Z"
   },
   {
    "duration": 3,
    "start_time": "2022-12-15T16:56:52.201Z"
   },
   {
    "duration": 6,
    "start_time": "2022-12-15T16:56:52.206Z"
   },
   {
    "duration": 9,
    "start_time": "2022-12-15T16:56:52.213Z"
   },
   {
    "duration": 9,
    "start_time": "2022-12-15T16:59:07.391Z"
   },
   {
    "duration": 10,
    "start_time": "2022-12-15T16:59:41.076Z"
   },
   {
    "duration": 11,
    "start_time": "2022-12-15T17:00:53.222Z"
   },
   {
    "duration": 12,
    "start_time": "2022-12-15T17:01:13.781Z"
   },
   {
    "duration": 1349,
    "start_time": "2022-12-15T17:14:22.303Z"
   },
   {
    "duration": 377,
    "start_time": "2022-12-15T17:14:23.653Z"
   },
   {
    "duration": 129,
    "start_time": "2022-12-15T17:14:24.032Z"
   },
   {
    "duration": 93,
    "start_time": "2022-12-15T17:14:24.163Z"
   },
   {
    "duration": 3,
    "start_time": "2022-12-15T17:14:24.257Z"
   },
   {
    "duration": 208,
    "start_time": "2022-12-15T17:14:24.262Z"
   },
   {
    "duration": 228,
    "start_time": "2022-12-15T17:14:24.471Z"
   },
   {
    "duration": 115,
    "start_time": "2022-12-15T17:14:24.701Z"
   },
   {
    "duration": 9,
    "start_time": "2022-12-15T17:14:24.818Z"
   },
   {
    "duration": 499,
    "start_time": "2022-12-15T17:14:24.829Z"
   },
   {
    "duration": 229,
    "start_time": "2022-12-15T17:14:25.330Z"
   },
   {
    "duration": 418,
    "start_time": "2022-12-15T17:14:25.561Z"
   },
   {
    "duration": 4,
    "start_time": "2022-12-15T17:14:25.981Z"
   },
   {
    "duration": 16,
    "start_time": "2022-12-15T17:14:25.986Z"
   },
   {
    "duration": 4,
    "start_time": "2022-12-15T17:14:26.003Z"
   },
   {
    "duration": 4236,
    "start_time": "2022-12-15T17:14:26.009Z"
   },
   {
    "duration": 417,
    "start_time": "2022-12-15T17:14:30.247Z"
   },
   {
    "duration": 4,
    "start_time": "2022-12-15T17:14:30.665Z"
   },
   {
    "duration": 26,
    "start_time": "2022-12-15T17:14:30.670Z"
   },
   {
    "duration": 25,
    "start_time": "2022-12-15T17:14:30.697Z"
   },
   {
    "duration": 19,
    "start_time": "2022-12-15T17:14:30.724Z"
   }
  ],
  "kernelspec": {
   "display_name": "Python 3 (ipykernel)",
   "language": "python",
   "name": "python3"
  },
  "language_info": {
   "codemirror_mode": {
    "name": "ipython",
    "version": 3
   },
   "file_extension": ".py",
   "mimetype": "text/x-python",
   "name": "python",
   "nbconvert_exporter": "python",
   "pygments_lexer": "ipython3",
   "version": "3.9.16"
  },
  "toc": {
   "base_numbering": 1,
   "nav_menu": {},
   "number_sections": true,
   "sideBar": true,
   "skip_h1_title": true,
   "title_cell": "Table of Contents",
   "title_sidebar": "Contents",
   "toc_cell": false,
   "toc_position": {},
   "toc_section_display": true,
   "toc_window_display": false
  }
 },
 "nbformat": 4,
 "nbformat_minor": 2
}
